{
 "cells": [
  {
   "cell_type": "code",
   "execution_count": 2,
   "id": "06ec4b42",
   "metadata": {},
   "outputs": [
    {
     "name": "stdout",
     "output_type": "stream",
     "text": [
      "0.3.27\n"
     ]
    }
   ],
   "source": [
    "import langchain\n",
    "print(langchain.__version__)"
   ]
  },
  {
   "cell_type": "code",
   "execution_count": 3,
   "id": "08081293",
   "metadata": {},
   "outputs": [
    {
     "name": "stdout",
     "output_type": "stream",
     "text": [
      "Requirement already satisfied: langchain-google-genai in /opt/anaconda3/lib/python3.13/site-packages (2.1.9)\n",
      "Requirement already satisfied: filetype<2.0.0,>=1.2.0 in /opt/anaconda3/lib/python3.13/site-packages (from langchain-google-genai) (1.2.0)\n",
      "Requirement already satisfied: google-ai-generativelanguage<0.7.0,>=0.6.18 in /opt/anaconda3/lib/python3.13/site-packages (from langchain-google-genai) (0.6.18)\n",
      "Requirement already satisfied: langchain-core<0.4.0,>=0.3.68 in /opt/anaconda3/lib/python3.13/site-packages (from langchain-google-genai) (0.3.74)\n",
      "Requirement already satisfied: pydantic<3,>=2 in /opt/anaconda3/lib/python3.13/site-packages (from langchain-google-genai) (2.11.7)\n",
      "Requirement already satisfied: google-api-core!=2.0.*,!=2.1.*,!=2.10.*,!=2.2.*,!=2.3.*,!=2.4.*,!=2.5.*,!=2.6.*,!=2.7.*,!=2.8.*,!=2.9.*,<3.0.0,>=1.34.1 in /opt/anaconda3/lib/python3.13/site-packages (from google-api-core[grpc]!=2.0.*,!=2.1.*,!=2.10.*,!=2.2.*,!=2.3.*,!=2.4.*,!=2.5.*,!=2.6.*,!=2.7.*,!=2.8.*,!=2.9.*,<3.0.0,>=1.34.1->google-ai-generativelanguage<0.7.0,>=0.6.18->langchain-google-genai) (2.25.1)\n",
      "Requirement already satisfied: google-auth!=2.24.0,!=2.25.0,<3.0.0,>=2.14.1 in /opt/anaconda3/lib/python3.13/site-packages (from google-ai-generativelanguage<0.7.0,>=0.6.18->langchain-google-genai) (2.40.3)\n",
      "Requirement already satisfied: proto-plus<2.0.0,>=1.22.3 in /opt/anaconda3/lib/python3.13/site-packages (from google-ai-generativelanguage<0.7.0,>=0.6.18->langchain-google-genai) (1.26.1)\n",
      "Requirement already satisfied: protobuf!=4.21.0,!=4.21.1,!=4.21.2,!=4.21.3,!=4.21.4,!=4.21.5,<7.0.0,>=3.20.2 in /opt/anaconda3/lib/python3.13/site-packages (from google-ai-generativelanguage<0.7.0,>=0.6.18->langchain-google-genai) (5.29.3)\n",
      "Requirement already satisfied: googleapis-common-protos<2.0.0,>=1.56.2 in /opt/anaconda3/lib/python3.13/site-packages (from google-api-core!=2.0.*,!=2.1.*,!=2.10.*,!=2.2.*,!=2.3.*,!=2.4.*,!=2.5.*,!=2.6.*,!=2.7.*,!=2.8.*,!=2.9.*,<3.0.0,>=1.34.1->google-api-core[grpc]!=2.0.*,!=2.1.*,!=2.10.*,!=2.2.*,!=2.3.*,!=2.4.*,!=2.5.*,!=2.6.*,!=2.7.*,!=2.8.*,!=2.9.*,<3.0.0,>=1.34.1->google-ai-generativelanguage<0.7.0,>=0.6.18->langchain-google-genai) (1.70.0)\n",
      "Requirement already satisfied: requests<3.0.0,>=2.18.0 in /opt/anaconda3/lib/python3.13/site-packages (from google-api-core!=2.0.*,!=2.1.*,!=2.10.*,!=2.2.*,!=2.3.*,!=2.4.*,!=2.5.*,!=2.6.*,!=2.7.*,!=2.8.*,!=2.9.*,<3.0.0,>=1.34.1->google-api-core[grpc]!=2.0.*,!=2.1.*,!=2.10.*,!=2.2.*,!=2.3.*,!=2.4.*,!=2.5.*,!=2.6.*,!=2.7.*,!=2.8.*,!=2.9.*,<3.0.0,>=1.34.1->google-ai-generativelanguage<0.7.0,>=0.6.18->langchain-google-genai) (2.32.3)\n",
      "Requirement already satisfied: grpcio<2.0.0,>=1.33.2 in /opt/anaconda3/lib/python3.13/site-packages (from google-api-core[grpc]!=2.0.*,!=2.1.*,!=2.10.*,!=2.2.*,!=2.3.*,!=2.4.*,!=2.5.*,!=2.6.*,!=2.7.*,!=2.8.*,!=2.9.*,<3.0.0,>=1.34.1->google-ai-generativelanguage<0.7.0,>=0.6.18->langchain-google-genai) (1.74.0)\n",
      "Requirement already satisfied: grpcio-status<2.0.0,>=1.33.2 in /opt/anaconda3/lib/python3.13/site-packages (from google-api-core[grpc]!=2.0.*,!=2.1.*,!=2.10.*,!=2.2.*,!=2.3.*,!=2.4.*,!=2.5.*,!=2.6.*,!=2.7.*,!=2.8.*,!=2.9.*,<3.0.0,>=1.34.1->google-ai-generativelanguage<0.7.0,>=0.6.18->langchain-google-genai) (1.71.2)\n",
      "Requirement already satisfied: cachetools<6.0,>=2.0.0 in /opt/anaconda3/lib/python3.13/site-packages (from google-auth!=2.24.0,!=2.25.0,<3.0.0,>=2.14.1->google-ai-generativelanguage<0.7.0,>=0.6.18->langchain-google-genai) (5.5.1)\n",
      "Requirement already satisfied: pyasn1-modules>=0.2.1 in /opt/anaconda3/lib/python3.13/site-packages (from google-auth!=2.24.0,!=2.25.0,<3.0.0,>=2.14.1->google-ai-generativelanguage<0.7.0,>=0.6.18->langchain-google-genai) (0.2.8)\n",
      "Requirement already satisfied: rsa<5,>=3.1.4 in /opt/anaconda3/lib/python3.13/site-packages (from google-auth!=2.24.0,!=2.25.0,<3.0.0,>=2.14.1->google-ai-generativelanguage<0.7.0,>=0.6.18->langchain-google-genai) (4.9.1)\n",
      "Requirement already satisfied: langsmith>=0.3.45 in /opt/anaconda3/lib/python3.13/site-packages (from langchain-core<0.4.0,>=0.3.68->langchain-google-genai) (0.4.13)\n",
      "Requirement already satisfied: tenacity!=8.4.0,<10.0.0,>=8.1.0 in /opt/anaconda3/lib/python3.13/site-packages (from langchain-core<0.4.0,>=0.3.68->langchain-google-genai) (9.0.0)\n",
      "Requirement already satisfied: jsonpatch<2.0,>=1.33 in /opt/anaconda3/lib/python3.13/site-packages (from langchain-core<0.4.0,>=0.3.68->langchain-google-genai) (1.33)\n",
      "Requirement already satisfied: PyYAML>=5.3 in /opt/anaconda3/lib/python3.13/site-packages (from langchain-core<0.4.0,>=0.3.68->langchain-google-genai) (6.0.2)\n",
      "Requirement already satisfied: typing-extensions>=4.7 in /opt/anaconda3/lib/python3.13/site-packages (from langchain-core<0.4.0,>=0.3.68->langchain-google-genai) (4.12.2)\n",
      "Requirement already satisfied: packaging>=23.2 in /opt/anaconda3/lib/python3.13/site-packages (from langchain-core<0.4.0,>=0.3.68->langchain-google-genai) (24.2)\n",
      "Requirement already satisfied: jsonpointer>=1.9 in /opt/anaconda3/lib/python3.13/site-packages (from jsonpatch<2.0,>=1.33->langchain-core<0.4.0,>=0.3.68->langchain-google-genai) (2.1)\n",
      "Requirement already satisfied: annotated-types>=0.6.0 in /opt/anaconda3/lib/python3.13/site-packages (from pydantic<3,>=2->langchain-google-genai) (0.6.0)\n",
      "Requirement already satisfied: pydantic-core==2.33.2 in /opt/anaconda3/lib/python3.13/site-packages (from pydantic<3,>=2->langchain-google-genai) (2.33.2)\n",
      "Requirement already satisfied: typing-inspection>=0.4.0 in /opt/anaconda3/lib/python3.13/site-packages (from pydantic<3,>=2->langchain-google-genai) (0.4.1)\n",
      "Requirement already satisfied: charset-normalizer<4,>=2 in /opt/anaconda3/lib/python3.13/site-packages (from requests<3.0.0,>=2.18.0->google-api-core!=2.0.*,!=2.1.*,!=2.10.*,!=2.2.*,!=2.3.*,!=2.4.*,!=2.5.*,!=2.6.*,!=2.7.*,!=2.8.*,!=2.9.*,<3.0.0,>=1.34.1->google-api-core[grpc]!=2.0.*,!=2.1.*,!=2.10.*,!=2.2.*,!=2.3.*,!=2.4.*,!=2.5.*,!=2.6.*,!=2.7.*,!=2.8.*,!=2.9.*,<3.0.0,>=1.34.1->google-ai-generativelanguage<0.7.0,>=0.6.18->langchain-google-genai) (3.3.2)\n",
      "Requirement already satisfied: idna<4,>=2.5 in /opt/anaconda3/lib/python3.13/site-packages (from requests<3.0.0,>=2.18.0->google-api-core!=2.0.*,!=2.1.*,!=2.10.*,!=2.2.*,!=2.3.*,!=2.4.*,!=2.5.*,!=2.6.*,!=2.7.*,!=2.8.*,!=2.9.*,<3.0.0,>=1.34.1->google-api-core[grpc]!=2.0.*,!=2.1.*,!=2.10.*,!=2.2.*,!=2.3.*,!=2.4.*,!=2.5.*,!=2.6.*,!=2.7.*,!=2.8.*,!=2.9.*,<3.0.0,>=1.34.1->google-ai-generativelanguage<0.7.0,>=0.6.18->langchain-google-genai) (3.7)\n",
      "Requirement already satisfied: urllib3<3,>=1.21.1 in /opt/anaconda3/lib/python3.13/site-packages (from requests<3.0.0,>=2.18.0->google-api-core!=2.0.*,!=2.1.*,!=2.10.*,!=2.2.*,!=2.3.*,!=2.4.*,!=2.5.*,!=2.6.*,!=2.7.*,!=2.8.*,!=2.9.*,<3.0.0,>=1.34.1->google-api-core[grpc]!=2.0.*,!=2.1.*,!=2.10.*,!=2.2.*,!=2.3.*,!=2.4.*,!=2.5.*,!=2.6.*,!=2.7.*,!=2.8.*,!=2.9.*,<3.0.0,>=1.34.1->google-ai-generativelanguage<0.7.0,>=0.6.18->langchain-google-genai) (2.3.0)\n",
      "Requirement already satisfied: certifi>=2017.4.17 in /opt/anaconda3/lib/python3.13/site-packages (from requests<3.0.0,>=2.18.0->google-api-core!=2.0.*,!=2.1.*,!=2.10.*,!=2.2.*,!=2.3.*,!=2.4.*,!=2.5.*,!=2.6.*,!=2.7.*,!=2.8.*,!=2.9.*,<3.0.0,>=1.34.1->google-api-core[grpc]!=2.0.*,!=2.1.*,!=2.10.*,!=2.2.*,!=2.3.*,!=2.4.*,!=2.5.*,!=2.6.*,!=2.7.*,!=2.8.*,!=2.9.*,<3.0.0,>=1.34.1->google-ai-generativelanguage<0.7.0,>=0.6.18->langchain-google-genai) (2025.8.3)\n",
      "Requirement already satisfied: pyasn1>=0.1.3 in /opt/anaconda3/lib/python3.13/site-packages (from rsa<5,>=3.1.4->google-auth!=2.24.0,!=2.25.0,<3.0.0,>=2.14.1->google-ai-generativelanguage<0.7.0,>=0.6.18->langchain-google-genai) (0.4.8)\n",
      "Requirement already satisfied: httpx<1,>=0.23.0 in /opt/anaconda3/lib/python3.13/site-packages (from langsmith>=0.3.45->langchain-core<0.4.0,>=0.3.68->langchain-google-genai) (0.28.1)\n",
      "Requirement already satisfied: orjson>=3.9.14 in /opt/anaconda3/lib/python3.13/site-packages (from langsmith>=0.3.45->langchain-core<0.4.0,>=0.3.68->langchain-google-genai) (3.11.1)\n",
      "Requirement already satisfied: requests-toolbelt>=1.0.0 in /opt/anaconda3/lib/python3.13/site-packages (from langsmith>=0.3.45->langchain-core<0.4.0,>=0.3.68->langchain-google-genai) (1.0.0)\n",
      "Requirement already satisfied: zstandard>=0.23.0 in /opt/anaconda3/lib/python3.13/site-packages (from langsmith>=0.3.45->langchain-core<0.4.0,>=0.3.68->langchain-google-genai) (0.23.0)\n",
      "Requirement already satisfied: anyio in /opt/anaconda3/lib/python3.13/site-packages (from httpx<1,>=0.23.0->langsmith>=0.3.45->langchain-core<0.4.0,>=0.3.68->langchain-google-genai) (4.10.0)\n",
      "Requirement already satisfied: httpcore==1.* in /opt/anaconda3/lib/python3.13/site-packages (from httpx<1,>=0.23.0->langsmith>=0.3.45->langchain-core<0.4.0,>=0.3.68->langchain-google-genai) (1.0.9)\n",
      "Requirement already satisfied: h11>=0.16 in /opt/anaconda3/lib/python3.13/site-packages (from httpcore==1.*->httpx<1,>=0.23.0->langsmith>=0.3.45->langchain-core<0.4.0,>=0.3.68->langchain-google-genai) (0.16.0)\n",
      "Requirement already satisfied: sniffio>=1.1 in /opt/anaconda3/lib/python3.13/site-packages (from anyio->httpx<1,>=0.23.0->langsmith>=0.3.45->langchain-core<0.4.0,>=0.3.68->langchain-google-genai) (1.3.0)\n",
      "Requirement already satisfied: langsmith in /opt/anaconda3/lib/python3.13/site-packages (0.4.13)\n",
      "Requirement already satisfied: httpx<1,>=0.23.0 in /opt/anaconda3/lib/python3.13/site-packages (from langsmith) (0.28.1)\n",
      "Requirement already satisfied: orjson>=3.9.14 in /opt/anaconda3/lib/python3.13/site-packages (from langsmith) (3.11.1)\n",
      "Requirement already satisfied: packaging>=23.2 in /opt/anaconda3/lib/python3.13/site-packages (from langsmith) (24.2)\n",
      "Requirement already satisfied: pydantic<3,>=1 in /opt/anaconda3/lib/python3.13/site-packages (from langsmith) (2.11.7)\n",
      "Requirement already satisfied: requests-toolbelt>=1.0.0 in /opt/anaconda3/lib/python3.13/site-packages (from langsmith) (1.0.0)\n",
      "Requirement already satisfied: requests>=2.0.0 in /opt/anaconda3/lib/python3.13/site-packages (from langsmith) (2.32.3)\n",
      "Requirement already satisfied: zstandard>=0.23.0 in /opt/anaconda3/lib/python3.13/site-packages (from langsmith) (0.23.0)\n",
      "Requirement already satisfied: anyio in /opt/anaconda3/lib/python3.13/site-packages (from httpx<1,>=0.23.0->langsmith) (4.10.0)\n",
      "Requirement already satisfied: certifi in /opt/anaconda3/lib/python3.13/site-packages (from httpx<1,>=0.23.0->langsmith) (2025.8.3)\n",
      "Requirement already satisfied: httpcore==1.* in /opt/anaconda3/lib/python3.13/site-packages (from httpx<1,>=0.23.0->langsmith) (1.0.9)\n",
      "Requirement already satisfied: idna in /opt/anaconda3/lib/python3.13/site-packages (from httpx<1,>=0.23.0->langsmith) (3.7)\n",
      "Requirement already satisfied: h11>=0.16 in /opt/anaconda3/lib/python3.13/site-packages (from httpcore==1.*->httpx<1,>=0.23.0->langsmith) (0.16.0)\n",
      "Requirement already satisfied: annotated-types>=0.6.0 in /opt/anaconda3/lib/python3.13/site-packages (from pydantic<3,>=1->langsmith) (0.6.0)\n",
      "Requirement already satisfied: pydantic-core==2.33.2 in /opt/anaconda3/lib/python3.13/site-packages (from pydantic<3,>=1->langsmith) (2.33.2)\n",
      "Requirement already satisfied: typing-extensions>=4.12.2 in /opt/anaconda3/lib/python3.13/site-packages (from pydantic<3,>=1->langsmith) (4.12.2)\n",
      "Requirement already satisfied: typing-inspection>=0.4.0 in /opt/anaconda3/lib/python3.13/site-packages (from pydantic<3,>=1->langsmith) (0.4.1)\n",
      "Requirement already satisfied: charset-normalizer<4,>=2 in /opt/anaconda3/lib/python3.13/site-packages (from requests>=2.0.0->langsmith) (3.3.2)\n",
      "Requirement already satisfied: urllib3<3,>=1.21.1 in /opt/anaconda3/lib/python3.13/site-packages (from requests>=2.0.0->langsmith) (2.3.0)\n",
      "Requirement already satisfied: sniffio>=1.1 in /opt/anaconda3/lib/python3.13/site-packages (from anyio->httpx<1,>=0.23.0->langsmith) (1.3.0)\n"
     ]
    }
   ],
   "source": [
    "!pip install langchain-google-genai\n",
    "!pip install langsmith"
   ]
  },
  {
   "cell_type": "code",
   "execution_count": 4,
   "id": "6a4e75d1",
   "metadata": {},
   "outputs": [],
   "source": [
    "import getpass\n",
    "import os\n",
    "from langchain_google_genai import ChatGoogleGenerativeAI\n",
    "\n",
    "if \"GOOGLE_API_KEY\" not in os.environ:\n",
    "    os.environ[\"GOOGLE_API_KEY\"] = getpass.getpass(\"Enter your Google AI API key: \")\n",
    "\n",
    "llm = ChatGoogleGenerativeAI(\n",
    "    model=\"gemini-2.5-flash\",\n",
    "    temperature=0,\n",
    "    max_tokens=None,\n",
    "    timeout=None,\n",
    "    max_retries=2,\n",
    "    # other params...\n",
    ")"
   ]
  },
  {
   "cell_type": "code",
   "execution_count": 5,
   "id": "0600bf47",
   "metadata": {},
   "outputs": [
    {
     "data": {
      "text/plain": [
       "AIMessage(content=\"Why don't scientists trust atoms?\\n\\nBecause they make up everything!\", additional_kwargs={}, response_metadata={'prompt_feedback': {'block_reason': 0, 'safety_ratings': []}, 'finish_reason': 'STOP', 'model_name': 'gemini-2.5-flash', 'safety_ratings': []}, id='run--62dbac3d-ef74-4f3b-8c96-4ab33ef19763-0', usage_metadata={'input_tokens': 5, 'output_tokens': 276, 'total_tokens': 281, 'input_token_details': {'cache_read': 0}, 'output_token_details': {'reasoning': 261}})"
      ]
     },
     "execution_count": 5,
     "metadata": {},
     "output_type": "execute_result"
    }
   ],
   "source": [
    "llm_response = llm.invoke(\"tell me a joke\")\n",
    "\n",
    "llm_response"
   ]
  },
  {
   "cell_type": "code",
   "execution_count": 6,
   "id": "deda233f",
   "metadata": {},
   "outputs": [],
   "source": [
    "os.environ[\"LANGCHAIN_TRACING_V2\"]=\"true\"\n",
    "os.environ[\"LANGCHAIN_ENDPOINT\"]=\"https://api.smith.langchain.com\"\n",
    "os.environ[\"LANGCHAIN_API_KEY\"]=\"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\"\n",
    "os.environ[\"LANGCHAIN_PROJECT\"]=\"GoogleChatBot\""
   ]
  },
  {
   "cell_type": "code",
   "execution_count": 7,
   "id": "7b260292",
   "metadata": {},
   "outputs": [
    {
     "data": {
      "text/plain": [
       "\"Why don't scientists trust atoms?\\n\\nBecause they make up everything!\""
      ]
     },
     "execution_count": 7,
     "metadata": {},
     "output_type": "execute_result"
    }
   ],
   "source": [
    "from langchain_core.output_parsers import StrOutputParser\n",
    "output_parser = StrOutputParser()\n",
    "output_parser.invoke(llm_response)"
   ]
  },
  {
   "cell_type": "code",
   "execution_count": 8,
   "id": "d08d9236",
   "metadata": {},
   "outputs": [
    {
     "data": {
      "text/plain": [
       "\"Why don't scientists trust atoms?\\n\\nBecause they make up everything!\""
      ]
     },
     "execution_count": 8,
     "metadata": {},
     "output_type": "execute_result"
    }
   ],
   "source": [
    "chain= llm| output_parser\n",
    "chain.invoke(\"tell me a joke\")"
   ]
  },
  {
   "cell_type": "code",
   "execution_count": 9,
   "id": "e5f1ebcf",
   "metadata": {},
   "outputs": [
    {
     "data": {
      "text/plain": [
       "Mobile_review(phone_model='Galaxy S21', rating=4.0, pros=['Gorgeous screen', 'Excellent camera, especially at night', 'Solid battery life'], cons=['Pricey', 'No charger included', 'Awkward button layout (Bixby button)'], summary='Great phone with a few annoying quirks, worth checking out for an upgrade.')"
      ]
     },
     "execution_count": 9,
     "metadata": {},
     "output_type": "execute_result"
    }
   ],
   "source": [
    "from dataclasses import field\n",
    "from typing import List\n",
    "from pydantic import BaseModel, Field\n",
    "\n",
    "class Mobile_review(BaseModel):\n",
    "  phone_model: str=Field(description = \"Name and model of the phone\")\n",
    "  rating: float= Field(description= \"overall rating out of 5\")\n",
    "  pros: List[str]=Field(description=\"list of positive aspects\")\n",
    "  cons: List[str]=Field(description=\"list of negative aspects\")\n",
    "  summary:str=Field(description=\"berief summery of the review\")\n",
    "\n",
    "review_text=\"\"\"\n",
    "Just got my hands on the new Galaxy S21 and wow, this thing is slick! The screen is gorgeous, 13 colors pop like crazy. Camera's insane too, especially at night - my Insta game's never been\n",
    "stronger. Battery life's solid, lasts me all day no problem.\n",
    "\n",
    "Not gonna lie though, it's pretty pricey. And what's with ditching the charger? C'mon Samsung.\n",
    "Also, still getting used to the new button layout, keep hitting Bixby by mistake.\n",
    "\n",
    "Overall, I'd say it's a solid 4 out of 5. Great phone, but a few annoying quirks keep it from\n",
    "being perfect. If you're due for an upgrade, definitely worth checking out!\n",
    "\"\"\"\n",
    "\n",
    "structured_llm=llm.with_structured_output(Mobile_review)\n",
    "output =structured_llm.invoke(review_text)\n",
    "output"
   ]
  },
  {
   "cell_type": "code",
   "execution_count": 10,
   "id": "d203c523",
   "metadata": {},
   "outputs": [
    {
     "data": {
      "text/plain": [
       "ChatPromptValue(messages=[HumanMessage(content='tell me a joke about programming', additional_kwargs={}, response_metadata={})])"
      ]
     },
     "execution_count": 10,
     "metadata": {},
     "output_type": "execute_result"
    }
   ],
   "source": [
    "from langchain_core.prompts import ChatPromptTemplate\n",
    "prompt=ChatPromptTemplate.from_template(\"tell me a joke about {topic}\")\n",
    "prompt.invoke({\"topic\": \"programming\"})"
   ]
  },
  {
   "cell_type": "code",
   "execution_count": 11,
   "id": "93e5bca8",
   "metadata": {},
   "outputs": [
    {
     "data": {
      "text/plain": [
       "'Why do programmers prefer dark mode?\\n\\nBecause light attracts bugs!'"
      ]
     },
     "execution_count": 11,
     "metadata": {},
     "output_type": "execute_result"
    }
   ],
   "source": [
    "chain =prompt| llm| output_parser\n",
    "chain.invoke({\"topic\": \"programming\"})"
   ]
  },
  {
   "cell_type": "code",
   "execution_count": 12,
   "id": "31260d3a",
   "metadata": {},
   "outputs": [
    {
     "name": "stdout",
     "output_type": "stream",
     "text": [
      "Here's a classic:\n",
      "\n",
      "A programmer's wife tells him, \"Go to the store and get a loaf of bread. If they have eggs, get a dozen.\"\n",
      "\n",
      "The programmer comes home with 12 loaves of bread.\n",
      "\n",
      "His wife asks, \"Why did you buy 12 loaves of bread?!\"\n",
      "\n",
      "The programmer replies, \"They had eggs.\"\n"
     ]
    }
   ],
   "source": [
    "from langchain_core.prompts import ChatPromptTemplate\n",
    "from langchain_core.output_parsers import StrOutputParser\n",
    "\n",
    "# define the prompt\n",
    "prompt=ChatPromptTemplate.from_template(\"tell me a joke about {topic}\")\n",
    "\n",
    "#intialize the LLM\n",
    "llm= ChatGoogleGenerativeAI(model=\"gemini-2.5-flash\")\n",
    "\n",
    "#compose the chain\n",
    "chain =prompt|llm|output_parser\n",
    "\n",
    "#use the chain\n",
    "result =chain.invoke({\"topic\": \"programming\"})\n",
    "print(result)"
   ]
  },
  {
   "cell_type": "code",
   "execution_count": 13,
   "id": "d8612303",
   "metadata": {},
   "outputs": [
    {
     "data": {
      "text/plain": [
       "AIMessage(content='Why do programmers prefer dark mode?\\n\\nBecause light attracts bugs!', additional_kwargs={}, response_metadata={'prompt_feedback': {'block_reason': 0, 'safety_ratings': []}, 'finish_reason': 'STOP', 'model_name': 'gemini-2.5-flash', 'safety_ratings': []}, id='run--9078005e-ce13-442d-890f-05e80e4fd6f8-0', usage_metadata={'input_tokens': 17, 'output_tokens': 440, 'total_tokens': 457, 'input_token_details': {'cache_read': 0}, 'output_token_details': {'reasoning': 427}})"
      ]
     },
     "execution_count": 13,
     "metadata": {},
     "output_type": "execute_result"
    }
   ],
   "source": [
    "from langchain_core.output_parsers import StrOutputParser\n",
    "from langchain_core.messages import HumanMessage, SystemMessage\n",
    "\n",
    "\n",
    "system_message = SystemMessage(content=\"You are a helpfull assistent that tells a jokes\")\n",
    "human_message = HumanMessage(content=\"tell me about programing\")\n",
    "llm.invoke([system_message,human_message])"
   ]
  },
  {
   "cell_type": "code",
   "execution_count": 14,
   "id": "d119b9e3",
   "metadata": {},
   "outputs": [
    {
     "data": {
      "text/plain": [
       "ChatPromptValue(messages=[SystemMessage(content='You are a helpfull assistent that tells a jokes ', additional_kwargs={}, response_metadata={}), HumanMessage(content='tell me about programing', additional_kwargs={}, response_metadata={})])"
      ]
     },
     "execution_count": 14,
     "metadata": {},
     "output_type": "execute_result"
    }
   ],
   "source": [
    "template =ChatPromptTemplate([(\"system\",'You are a helpfull assistent that tells a jokes '),\n",
    "                              (\"human\",\"tell me about {topic}\")])\n",
    "\n",
    "prompt_value = template.invoke({\"topic\": \"programing\"})\n",
    "prompt_value"
   ]
  },
  {
   "cell_type": "code",
   "execution_count": 15,
   "id": "41143ad2",
   "metadata": {},
   "outputs": [
    {
     "data": {
      "text/plain": [
       "AIMessage(content='Why do programmers always mix up Halloween and Christmas?\\n\\nBecause Oct 31 equals Dec 25!\\n\\n(Get it? Octal 31 is the same as Decimal 25!)', additional_kwargs={}, response_metadata={'prompt_feedback': {'block_reason': 0, 'safety_ratings': []}, 'finish_reason': 'STOP', 'model_name': 'gemini-2.5-flash', 'safety_ratings': []}, id='run--1dce12ce-a21e-43c6-b18b-c64adfb98016-0', usage_metadata={'input_tokens': 18, 'output_tokens': 324, 'total_tokens': 342, 'input_token_details': {'cache_read': 0}, 'output_token_details': {'reasoning': 283}})"
      ]
     },
     "execution_count": 15,
     "metadata": {},
     "output_type": "execute_result"
    }
   ],
   "source": [
    "llm.invoke(prompt_value)"
   ]
  },
  {
   "cell_type": "code",
   "execution_count": 16,
   "id": "9005ab54",
   "metadata": {},
   "outputs": [
    {
     "name": "stdout",
     "output_type": "stream",
     "text": [
      "Requirement already satisfied: docx2txt in /opt/anaconda3/lib/python3.13/site-packages (0.9)\n",
      "Requirement already satisfied: pypdf in /opt/anaconda3/lib/python3.13/site-packages (6.0.0)\n",
      "Requirement already satisfied: unstructured in /opt/anaconda3/lib/python3.13/site-packages (0.18.11)\n",
      "Requirement already satisfied: charset-normalizer in /opt/anaconda3/lib/python3.13/site-packages (from unstructured) (3.3.2)\n",
      "Requirement already satisfied: filetype in /opt/anaconda3/lib/python3.13/site-packages (from unstructured) (1.2.0)\n",
      "Requirement already satisfied: python-magic in /opt/anaconda3/lib/python3.13/site-packages (from unstructured) (0.4.27)\n",
      "Requirement already satisfied: lxml in /opt/anaconda3/lib/python3.13/site-packages (from unstructured) (5.3.0)\n",
      "Requirement already satisfied: nltk in /opt/anaconda3/lib/python3.13/site-packages (from unstructured) (3.9.1)\n",
      "Requirement already satisfied: requests in /opt/anaconda3/lib/python3.13/site-packages (from unstructured) (2.32.3)\n",
      "Requirement already satisfied: beautifulsoup4 in /opt/anaconda3/lib/python3.13/site-packages (from unstructured) (4.12.3)\n",
      "Requirement already satisfied: emoji in /opt/anaconda3/lib/python3.13/site-packages (from unstructured) (2.14.1)\n",
      "Requirement already satisfied: dataclasses-json in /opt/anaconda3/lib/python3.13/site-packages (from unstructured) (0.6.7)\n",
      "Requirement already satisfied: python-iso639 in /opt/anaconda3/lib/python3.13/site-packages (from unstructured) (2025.2.18)\n",
      "Requirement already satisfied: langdetect in /opt/anaconda3/lib/python3.13/site-packages (from unstructured) (1.0.9)\n",
      "Requirement already satisfied: numpy in /opt/anaconda3/lib/python3.13/site-packages (from unstructured) (2.1.3)\n",
      "Requirement already satisfied: rapidfuzz in /opt/anaconda3/lib/python3.13/site-packages (from unstructured) (3.13.0)\n",
      "Requirement already satisfied: backoff in /opt/anaconda3/lib/python3.13/site-packages (from unstructured) (2.2.1)\n",
      "Requirement already satisfied: typing-extensions in /opt/anaconda3/lib/python3.13/site-packages (from unstructured) (4.12.2)\n",
      "Requirement already satisfied: unstructured-client in /opt/anaconda3/lib/python3.13/site-packages (from unstructured) (0.42.2)\n",
      "Requirement already satisfied: wrapt in /opt/anaconda3/lib/python3.13/site-packages (from unstructured) (1.17.0)\n",
      "Requirement already satisfied: tqdm in /opt/anaconda3/lib/python3.13/site-packages (from unstructured) (4.67.1)\n",
      "Requirement already satisfied: psutil in /opt/anaconda3/lib/python3.13/site-packages (from unstructured) (5.9.0)\n",
      "Requirement already satisfied: python-oxmsg in /opt/anaconda3/lib/python3.13/site-packages (from unstructured) (0.0.2)\n",
      "Requirement already satisfied: html5lib in /opt/anaconda3/lib/python3.13/site-packages (from unstructured) (1.1)\n",
      "Requirement already satisfied: soupsieve>1.2 in /opt/anaconda3/lib/python3.13/site-packages (from beautifulsoup4->unstructured) (2.5)\n",
      "Requirement already satisfied: marshmallow<4.0.0,>=3.18.0 in /opt/anaconda3/lib/python3.13/site-packages (from dataclasses-json->unstructured) (3.26.1)\n",
      "Requirement already satisfied: typing-inspect<1,>=0.4.0 in /opt/anaconda3/lib/python3.13/site-packages (from dataclasses-json->unstructured) (0.9.0)\n",
      "Requirement already satisfied: packaging>=17.0 in /opt/anaconda3/lib/python3.13/site-packages (from marshmallow<4.0.0,>=3.18.0->dataclasses-json->unstructured) (24.2)\n",
      "Requirement already satisfied: mypy-extensions>=0.3.0 in /opt/anaconda3/lib/python3.13/site-packages (from typing-inspect<1,>=0.4.0->dataclasses-json->unstructured) (1.0.0)\n",
      "Requirement already satisfied: six>=1.9 in /opt/anaconda3/lib/python3.13/site-packages (from html5lib->unstructured) (1.17.0)\n",
      "Requirement already satisfied: webencodings in /opt/anaconda3/lib/python3.13/site-packages (from html5lib->unstructured) (0.5.1)\n",
      "Requirement already satisfied: click in /opt/anaconda3/lib/python3.13/site-packages (from nltk->unstructured) (8.1.8)\n",
      "Requirement already satisfied: joblib in /opt/anaconda3/lib/python3.13/site-packages (from nltk->unstructured) (1.4.2)\n",
      "Requirement already satisfied: regex>=2021.8.3 in /opt/anaconda3/lib/python3.13/site-packages (from nltk->unstructured) (2024.11.6)\n",
      "Requirement already satisfied: olefile in /opt/anaconda3/lib/python3.13/site-packages (from python-oxmsg->unstructured) (0.47)\n",
      "Requirement already satisfied: idna<4,>=2.5 in /opt/anaconda3/lib/python3.13/site-packages (from requests->unstructured) (3.7)\n",
      "Requirement already satisfied: urllib3<3,>=1.21.1 in /opt/anaconda3/lib/python3.13/site-packages (from requests->unstructured) (2.3.0)\n",
      "Requirement already satisfied: certifi>=2017.4.17 in /opt/anaconda3/lib/python3.13/site-packages (from requests->unstructured) (2025.8.3)\n",
      "Requirement already satisfied: aiofiles>=24.1.0 in /opt/anaconda3/lib/python3.13/site-packages (from unstructured-client->unstructured) (24.1.0)\n",
      "Requirement already satisfied: cryptography>=3.1 in /opt/anaconda3/lib/python3.13/site-packages (from unstructured-client->unstructured) (44.0.1)\n",
      "Requirement already satisfied: httpcore>=1.0.9 in /opt/anaconda3/lib/python3.13/site-packages (from unstructured-client->unstructured) (1.0.9)\n",
      "Requirement already satisfied: httpx>=0.27.0 in /opt/anaconda3/lib/python3.13/site-packages (from unstructured-client->unstructured) (0.28.1)\n",
      "Requirement already satisfied: pydantic>=2.11.2 in /opt/anaconda3/lib/python3.13/site-packages (from unstructured-client->unstructured) (2.11.7)\n",
      "Requirement already satisfied: requests-toolbelt>=1.0.0 in /opt/anaconda3/lib/python3.13/site-packages (from unstructured-client->unstructured) (1.0.0)\n",
      "Requirement already satisfied: cffi>=1.12 in /opt/anaconda3/lib/python3.13/site-packages (from cryptography>=3.1->unstructured-client->unstructured) (1.17.1)\n",
      "Requirement already satisfied: pycparser in /opt/anaconda3/lib/python3.13/site-packages (from cffi>=1.12->cryptography>=3.1->unstructured-client->unstructured) (2.21)\n",
      "Requirement already satisfied: h11>=0.16 in /opt/anaconda3/lib/python3.13/site-packages (from httpcore>=1.0.9->unstructured-client->unstructured) (0.16.0)\n",
      "Requirement already satisfied: anyio in /opt/anaconda3/lib/python3.13/site-packages (from httpx>=0.27.0->unstructured-client->unstructured) (4.10.0)\n",
      "Requirement already satisfied: annotated-types>=0.6.0 in /opt/anaconda3/lib/python3.13/site-packages (from pydantic>=2.11.2->unstructured-client->unstructured) (0.6.0)\n",
      "Requirement already satisfied: pydantic-core==2.33.2 in /opt/anaconda3/lib/python3.13/site-packages (from pydantic>=2.11.2->unstructured-client->unstructured) (2.33.2)\n",
      "Requirement already satisfied: typing-inspection>=0.4.0 in /opt/anaconda3/lib/python3.13/site-packages (from pydantic>=2.11.2->unstructured-client->unstructured) (0.4.1)\n",
      "Requirement already satisfied: sniffio>=1.1 in /opt/anaconda3/lib/python3.13/site-packages (from anyio->httpx>=0.27.0->unstructured-client->unstructured) (1.3.0)\n",
      "Requirement already satisfied: langchain-community in /opt/anaconda3/lib/python3.13/site-packages (0.3.27)\n",
      "Requirement already satisfied: langchain-core<1.0.0,>=0.3.66 in /opt/anaconda3/lib/python3.13/site-packages (from langchain-community) (0.3.74)\n",
      "Requirement already satisfied: langchain<1.0.0,>=0.3.26 in /opt/anaconda3/lib/python3.13/site-packages (from langchain-community) (0.3.27)\n",
      "Requirement already satisfied: SQLAlchemy<3,>=1.4 in /opt/anaconda3/lib/python3.13/site-packages (from langchain-community) (2.0.39)\n",
      "Requirement already satisfied: requests<3,>=2 in /opt/anaconda3/lib/python3.13/site-packages (from langchain-community) (2.32.3)\n",
      "Requirement already satisfied: PyYAML>=5.3 in /opt/anaconda3/lib/python3.13/site-packages (from langchain-community) (6.0.2)\n",
      "Requirement already satisfied: aiohttp<4.0.0,>=3.8.3 in /opt/anaconda3/lib/python3.13/site-packages (from langchain-community) (3.11.10)\n",
      "Requirement already satisfied: tenacity!=8.4.0,<10,>=8.1.0 in /opt/anaconda3/lib/python3.13/site-packages (from langchain-community) (9.0.0)\n",
      "Requirement already satisfied: dataclasses-json<0.7,>=0.5.7 in /opt/anaconda3/lib/python3.13/site-packages (from langchain-community) (0.6.7)\n",
      "Requirement already satisfied: pydantic-settings<3.0.0,>=2.4.0 in /opt/anaconda3/lib/python3.13/site-packages (from langchain-community) (2.6.1)\n",
      "Requirement already satisfied: langsmith>=0.1.125 in /opt/anaconda3/lib/python3.13/site-packages (from langchain-community) (0.4.13)\n",
      "Requirement already satisfied: httpx-sse<1.0.0,>=0.4.0 in /opt/anaconda3/lib/python3.13/site-packages (from langchain-community) (0.4.1)\n",
      "Requirement already satisfied: numpy>=2.1.0 in /opt/anaconda3/lib/python3.13/site-packages (from langchain-community) (2.1.3)\n",
      "Requirement already satisfied: aiohappyeyeballs>=2.3.0 in /opt/anaconda3/lib/python3.13/site-packages (from aiohttp<4.0.0,>=3.8.3->langchain-community) (2.4.4)\n",
      "Requirement already satisfied: aiosignal>=1.1.2 in /opt/anaconda3/lib/python3.13/site-packages (from aiohttp<4.0.0,>=3.8.3->langchain-community) (1.2.0)\n",
      "Requirement already satisfied: attrs>=17.3.0 in /opt/anaconda3/lib/python3.13/site-packages (from aiohttp<4.0.0,>=3.8.3->langchain-community) (24.3.0)\n",
      "Requirement already satisfied: frozenlist>=1.1.1 in /opt/anaconda3/lib/python3.13/site-packages (from aiohttp<4.0.0,>=3.8.3->langchain-community) (1.5.0)\n",
      "Requirement already satisfied: multidict<7.0,>=4.5 in /opt/anaconda3/lib/python3.13/site-packages (from aiohttp<4.0.0,>=3.8.3->langchain-community) (6.1.0)\n",
      "Requirement already satisfied: propcache>=0.2.0 in /opt/anaconda3/lib/python3.13/site-packages (from aiohttp<4.0.0,>=3.8.3->langchain-community) (0.3.1)\n",
      "Requirement already satisfied: yarl<2.0,>=1.17.0 in /opt/anaconda3/lib/python3.13/site-packages (from aiohttp<4.0.0,>=3.8.3->langchain-community) (1.18.0)\n",
      "Requirement already satisfied: marshmallow<4.0.0,>=3.18.0 in /opt/anaconda3/lib/python3.13/site-packages (from dataclasses-json<0.7,>=0.5.7->langchain-community) (3.26.1)\n",
      "Requirement already satisfied: typing-inspect<1,>=0.4.0 in /opt/anaconda3/lib/python3.13/site-packages (from dataclasses-json<0.7,>=0.5.7->langchain-community) (0.9.0)\n",
      "Requirement already satisfied: langchain-text-splitters<1.0.0,>=0.3.9 in /opt/anaconda3/lib/python3.13/site-packages (from langchain<1.0.0,>=0.3.26->langchain-community) (0.3.9)\n",
      "Requirement already satisfied: pydantic<3.0.0,>=2.7.4 in /opt/anaconda3/lib/python3.13/site-packages (from langchain<1.0.0,>=0.3.26->langchain-community) (2.11.7)\n",
      "Requirement already satisfied: jsonpatch<2.0,>=1.33 in /opt/anaconda3/lib/python3.13/site-packages (from langchain-core<1.0.0,>=0.3.66->langchain-community) (1.33)\n",
      "Requirement already satisfied: typing-extensions>=4.7 in /opt/anaconda3/lib/python3.13/site-packages (from langchain-core<1.0.0,>=0.3.66->langchain-community) (4.12.2)\n",
      "Requirement already satisfied: packaging>=23.2 in /opt/anaconda3/lib/python3.13/site-packages (from langchain-core<1.0.0,>=0.3.66->langchain-community) (24.2)\n",
      "Requirement already satisfied: jsonpointer>=1.9 in /opt/anaconda3/lib/python3.13/site-packages (from jsonpatch<2.0,>=1.33->langchain-core<1.0.0,>=0.3.66->langchain-community) (2.1)\n",
      "Requirement already satisfied: annotated-types>=0.6.0 in /opt/anaconda3/lib/python3.13/site-packages (from pydantic<3.0.0,>=2.7.4->langchain<1.0.0,>=0.3.26->langchain-community) (0.6.0)\n",
      "Requirement already satisfied: pydantic-core==2.33.2 in /opt/anaconda3/lib/python3.13/site-packages (from pydantic<3.0.0,>=2.7.4->langchain<1.0.0,>=0.3.26->langchain-community) (2.33.2)\n",
      "Requirement already satisfied: typing-inspection>=0.4.0 in /opt/anaconda3/lib/python3.13/site-packages (from pydantic<3.0.0,>=2.7.4->langchain<1.0.0,>=0.3.26->langchain-community) (0.4.1)\n",
      "Requirement already satisfied: python-dotenv>=0.21.0 in /opt/anaconda3/lib/python3.13/site-packages (from pydantic-settings<3.0.0,>=2.4.0->langchain-community) (1.1.0)\n",
      "Requirement already satisfied: charset-normalizer<4,>=2 in /opt/anaconda3/lib/python3.13/site-packages (from requests<3,>=2->langchain-community) (3.3.2)\n",
      "Requirement already satisfied: idna<4,>=2.5 in /opt/anaconda3/lib/python3.13/site-packages (from requests<3,>=2->langchain-community) (3.7)\n",
      "Requirement already satisfied: urllib3<3,>=1.21.1 in /opt/anaconda3/lib/python3.13/site-packages (from requests<3,>=2->langchain-community) (2.3.0)\n",
      "Requirement already satisfied: certifi>=2017.4.17 in /opt/anaconda3/lib/python3.13/site-packages (from requests<3,>=2->langchain-community) (2025.8.3)\n",
      "Requirement already satisfied: mypy-extensions>=0.3.0 in /opt/anaconda3/lib/python3.13/site-packages (from typing-inspect<1,>=0.4.0->dataclasses-json<0.7,>=0.5.7->langchain-community) (1.0.0)\n",
      "Requirement already satisfied: httpx<1,>=0.23.0 in /opt/anaconda3/lib/python3.13/site-packages (from langsmith>=0.1.125->langchain-community) (0.28.1)\n",
      "Requirement already satisfied: orjson>=3.9.14 in /opt/anaconda3/lib/python3.13/site-packages (from langsmith>=0.1.125->langchain-community) (3.11.1)\n",
      "Requirement already satisfied: requests-toolbelt>=1.0.0 in /opt/anaconda3/lib/python3.13/site-packages (from langsmith>=0.1.125->langchain-community) (1.0.0)\n",
      "Requirement already satisfied: zstandard>=0.23.0 in /opt/anaconda3/lib/python3.13/site-packages (from langsmith>=0.1.125->langchain-community) (0.23.0)\n",
      "Requirement already satisfied: anyio in /opt/anaconda3/lib/python3.13/site-packages (from httpx<1,>=0.23.0->langsmith>=0.1.125->langchain-community) (4.10.0)\n",
      "Requirement already satisfied: httpcore==1.* in /opt/anaconda3/lib/python3.13/site-packages (from httpx<1,>=0.23.0->langsmith>=0.1.125->langchain-community) (1.0.9)\n",
      "Requirement already satisfied: h11>=0.16 in /opt/anaconda3/lib/python3.13/site-packages (from httpcore==1.*->httpx<1,>=0.23.0->langsmith>=0.1.125->langchain-community) (0.16.0)\n",
      "Requirement already satisfied: sniffio>=1.1 in /opt/anaconda3/lib/python3.13/site-packages (from anyio->httpx<1,>=0.23.0->langsmith>=0.1.125->langchain-community) (1.3.0)\n",
      "Requirement already satisfied: langchain-google-genai in /opt/anaconda3/lib/python3.13/site-packages (2.1.9)\n",
      "Requirement already satisfied: filetype<2.0.0,>=1.2.0 in /opt/anaconda3/lib/python3.13/site-packages (from langchain-google-genai) (1.2.0)\n",
      "Requirement already satisfied: google-ai-generativelanguage<0.7.0,>=0.6.18 in /opt/anaconda3/lib/python3.13/site-packages (from langchain-google-genai) (0.6.18)\n",
      "Requirement already satisfied: langchain-core<0.4.0,>=0.3.68 in /opt/anaconda3/lib/python3.13/site-packages (from langchain-google-genai) (0.3.74)\n",
      "Requirement already satisfied: pydantic<3,>=2 in /opt/anaconda3/lib/python3.13/site-packages (from langchain-google-genai) (2.11.7)\n",
      "Requirement already satisfied: google-api-core!=2.0.*,!=2.1.*,!=2.10.*,!=2.2.*,!=2.3.*,!=2.4.*,!=2.5.*,!=2.6.*,!=2.7.*,!=2.8.*,!=2.9.*,<3.0.0,>=1.34.1 in /opt/anaconda3/lib/python3.13/site-packages (from google-api-core[grpc]!=2.0.*,!=2.1.*,!=2.10.*,!=2.2.*,!=2.3.*,!=2.4.*,!=2.5.*,!=2.6.*,!=2.7.*,!=2.8.*,!=2.9.*,<3.0.0,>=1.34.1->google-ai-generativelanguage<0.7.0,>=0.6.18->langchain-google-genai) (2.25.1)\n",
      "Requirement already satisfied: google-auth!=2.24.0,!=2.25.0,<3.0.0,>=2.14.1 in /opt/anaconda3/lib/python3.13/site-packages (from google-ai-generativelanguage<0.7.0,>=0.6.18->langchain-google-genai) (2.40.3)\n",
      "Requirement already satisfied: proto-plus<2.0.0,>=1.22.3 in /opt/anaconda3/lib/python3.13/site-packages (from google-ai-generativelanguage<0.7.0,>=0.6.18->langchain-google-genai) (1.26.1)\n",
      "Requirement already satisfied: protobuf!=4.21.0,!=4.21.1,!=4.21.2,!=4.21.3,!=4.21.4,!=4.21.5,<7.0.0,>=3.20.2 in /opt/anaconda3/lib/python3.13/site-packages (from google-ai-generativelanguage<0.7.0,>=0.6.18->langchain-google-genai) (5.29.3)\n",
      "Requirement already satisfied: googleapis-common-protos<2.0.0,>=1.56.2 in /opt/anaconda3/lib/python3.13/site-packages (from google-api-core!=2.0.*,!=2.1.*,!=2.10.*,!=2.2.*,!=2.3.*,!=2.4.*,!=2.5.*,!=2.6.*,!=2.7.*,!=2.8.*,!=2.9.*,<3.0.0,>=1.34.1->google-api-core[grpc]!=2.0.*,!=2.1.*,!=2.10.*,!=2.2.*,!=2.3.*,!=2.4.*,!=2.5.*,!=2.6.*,!=2.7.*,!=2.8.*,!=2.9.*,<3.0.0,>=1.34.1->google-ai-generativelanguage<0.7.0,>=0.6.18->langchain-google-genai) (1.70.0)\n",
      "Requirement already satisfied: requests<3.0.0,>=2.18.0 in /opt/anaconda3/lib/python3.13/site-packages (from google-api-core!=2.0.*,!=2.1.*,!=2.10.*,!=2.2.*,!=2.3.*,!=2.4.*,!=2.5.*,!=2.6.*,!=2.7.*,!=2.8.*,!=2.9.*,<3.0.0,>=1.34.1->google-api-core[grpc]!=2.0.*,!=2.1.*,!=2.10.*,!=2.2.*,!=2.3.*,!=2.4.*,!=2.5.*,!=2.6.*,!=2.7.*,!=2.8.*,!=2.9.*,<3.0.0,>=1.34.1->google-ai-generativelanguage<0.7.0,>=0.6.18->langchain-google-genai) (2.32.3)\n",
      "Requirement already satisfied: grpcio<2.0.0,>=1.33.2 in /opt/anaconda3/lib/python3.13/site-packages (from google-api-core[grpc]!=2.0.*,!=2.1.*,!=2.10.*,!=2.2.*,!=2.3.*,!=2.4.*,!=2.5.*,!=2.6.*,!=2.7.*,!=2.8.*,!=2.9.*,<3.0.0,>=1.34.1->google-ai-generativelanguage<0.7.0,>=0.6.18->langchain-google-genai) (1.74.0)\n",
      "Requirement already satisfied: grpcio-status<2.0.0,>=1.33.2 in /opt/anaconda3/lib/python3.13/site-packages (from google-api-core[grpc]!=2.0.*,!=2.1.*,!=2.10.*,!=2.2.*,!=2.3.*,!=2.4.*,!=2.5.*,!=2.6.*,!=2.7.*,!=2.8.*,!=2.9.*,<3.0.0,>=1.34.1->google-ai-generativelanguage<0.7.0,>=0.6.18->langchain-google-genai) (1.71.2)\n",
      "Requirement already satisfied: cachetools<6.0,>=2.0.0 in /opt/anaconda3/lib/python3.13/site-packages (from google-auth!=2.24.0,!=2.25.0,<3.0.0,>=2.14.1->google-ai-generativelanguage<0.7.0,>=0.6.18->langchain-google-genai) (5.5.1)\n",
      "Requirement already satisfied: pyasn1-modules>=0.2.1 in /opt/anaconda3/lib/python3.13/site-packages (from google-auth!=2.24.0,!=2.25.0,<3.0.0,>=2.14.1->google-ai-generativelanguage<0.7.0,>=0.6.18->langchain-google-genai) (0.2.8)\n",
      "Requirement already satisfied: rsa<5,>=3.1.4 in /opt/anaconda3/lib/python3.13/site-packages (from google-auth!=2.24.0,!=2.25.0,<3.0.0,>=2.14.1->google-ai-generativelanguage<0.7.0,>=0.6.18->langchain-google-genai) (4.9.1)\n",
      "Requirement already satisfied: langsmith>=0.3.45 in /opt/anaconda3/lib/python3.13/site-packages (from langchain-core<0.4.0,>=0.3.68->langchain-google-genai) (0.4.13)\n",
      "Requirement already satisfied: tenacity!=8.4.0,<10.0.0,>=8.1.0 in /opt/anaconda3/lib/python3.13/site-packages (from langchain-core<0.4.0,>=0.3.68->langchain-google-genai) (9.0.0)\n",
      "Requirement already satisfied: jsonpatch<2.0,>=1.33 in /opt/anaconda3/lib/python3.13/site-packages (from langchain-core<0.4.0,>=0.3.68->langchain-google-genai) (1.33)\n",
      "Requirement already satisfied: PyYAML>=5.3 in /opt/anaconda3/lib/python3.13/site-packages (from langchain-core<0.4.0,>=0.3.68->langchain-google-genai) (6.0.2)\n",
      "Requirement already satisfied: typing-extensions>=4.7 in /opt/anaconda3/lib/python3.13/site-packages (from langchain-core<0.4.0,>=0.3.68->langchain-google-genai) (4.12.2)\n",
      "Requirement already satisfied: packaging>=23.2 in /opt/anaconda3/lib/python3.13/site-packages (from langchain-core<0.4.0,>=0.3.68->langchain-google-genai) (24.2)\n",
      "Requirement already satisfied: jsonpointer>=1.9 in /opt/anaconda3/lib/python3.13/site-packages (from jsonpatch<2.0,>=1.33->langchain-core<0.4.0,>=0.3.68->langchain-google-genai) (2.1)\n",
      "Requirement already satisfied: annotated-types>=0.6.0 in /opt/anaconda3/lib/python3.13/site-packages (from pydantic<3,>=2->langchain-google-genai) (0.6.0)\n",
      "Requirement already satisfied: pydantic-core==2.33.2 in /opt/anaconda3/lib/python3.13/site-packages (from pydantic<3,>=2->langchain-google-genai) (2.33.2)\n",
      "Requirement already satisfied: typing-inspection>=0.4.0 in /opt/anaconda3/lib/python3.13/site-packages (from pydantic<3,>=2->langchain-google-genai) (0.4.1)\n",
      "Requirement already satisfied: charset-normalizer<4,>=2 in /opt/anaconda3/lib/python3.13/site-packages (from requests<3.0.0,>=2.18.0->google-api-core!=2.0.*,!=2.1.*,!=2.10.*,!=2.2.*,!=2.3.*,!=2.4.*,!=2.5.*,!=2.6.*,!=2.7.*,!=2.8.*,!=2.9.*,<3.0.0,>=1.34.1->google-api-core[grpc]!=2.0.*,!=2.1.*,!=2.10.*,!=2.2.*,!=2.3.*,!=2.4.*,!=2.5.*,!=2.6.*,!=2.7.*,!=2.8.*,!=2.9.*,<3.0.0,>=1.34.1->google-ai-generativelanguage<0.7.0,>=0.6.18->langchain-google-genai) (3.3.2)\n",
      "Requirement already satisfied: idna<4,>=2.5 in /opt/anaconda3/lib/python3.13/site-packages (from requests<3.0.0,>=2.18.0->google-api-core!=2.0.*,!=2.1.*,!=2.10.*,!=2.2.*,!=2.3.*,!=2.4.*,!=2.5.*,!=2.6.*,!=2.7.*,!=2.8.*,!=2.9.*,<3.0.0,>=1.34.1->google-api-core[grpc]!=2.0.*,!=2.1.*,!=2.10.*,!=2.2.*,!=2.3.*,!=2.4.*,!=2.5.*,!=2.6.*,!=2.7.*,!=2.8.*,!=2.9.*,<3.0.0,>=1.34.1->google-ai-generativelanguage<0.7.0,>=0.6.18->langchain-google-genai) (3.7)\n",
      "Requirement already satisfied: urllib3<3,>=1.21.1 in /opt/anaconda3/lib/python3.13/site-packages (from requests<3.0.0,>=2.18.0->google-api-core!=2.0.*,!=2.1.*,!=2.10.*,!=2.2.*,!=2.3.*,!=2.4.*,!=2.5.*,!=2.6.*,!=2.7.*,!=2.8.*,!=2.9.*,<3.0.0,>=1.34.1->google-api-core[grpc]!=2.0.*,!=2.1.*,!=2.10.*,!=2.2.*,!=2.3.*,!=2.4.*,!=2.5.*,!=2.6.*,!=2.7.*,!=2.8.*,!=2.9.*,<3.0.0,>=1.34.1->google-ai-generativelanguage<0.7.0,>=0.6.18->langchain-google-genai) (2.3.0)\n",
      "Requirement already satisfied: certifi>=2017.4.17 in /opt/anaconda3/lib/python3.13/site-packages (from requests<3.0.0,>=2.18.0->google-api-core!=2.0.*,!=2.1.*,!=2.10.*,!=2.2.*,!=2.3.*,!=2.4.*,!=2.5.*,!=2.6.*,!=2.7.*,!=2.8.*,!=2.9.*,<3.0.0,>=1.34.1->google-api-core[grpc]!=2.0.*,!=2.1.*,!=2.10.*,!=2.2.*,!=2.3.*,!=2.4.*,!=2.5.*,!=2.6.*,!=2.7.*,!=2.8.*,!=2.9.*,<3.0.0,>=1.34.1->google-ai-generativelanguage<0.7.0,>=0.6.18->langchain-google-genai) (2025.8.3)\n",
      "Requirement already satisfied: pyasn1>=0.1.3 in /opt/anaconda3/lib/python3.13/site-packages (from rsa<5,>=3.1.4->google-auth!=2.24.0,!=2.25.0,<3.0.0,>=2.14.1->google-ai-generativelanguage<0.7.0,>=0.6.18->langchain-google-genai) (0.4.8)\n",
      "Requirement already satisfied: httpx<1,>=0.23.0 in /opt/anaconda3/lib/python3.13/site-packages (from langsmith>=0.3.45->langchain-core<0.4.0,>=0.3.68->langchain-google-genai) (0.28.1)\n",
      "Requirement already satisfied: orjson>=3.9.14 in /opt/anaconda3/lib/python3.13/site-packages (from langsmith>=0.3.45->langchain-core<0.4.0,>=0.3.68->langchain-google-genai) (3.11.1)\n",
      "Requirement already satisfied: requests-toolbelt>=1.0.0 in /opt/anaconda3/lib/python3.13/site-packages (from langsmith>=0.3.45->langchain-core<0.4.0,>=0.3.68->langchain-google-genai) (1.0.0)\n",
      "Requirement already satisfied: zstandard>=0.23.0 in /opt/anaconda3/lib/python3.13/site-packages (from langsmith>=0.3.45->langchain-core<0.4.0,>=0.3.68->langchain-google-genai) (0.23.0)\n",
      "Requirement already satisfied: anyio in /opt/anaconda3/lib/python3.13/site-packages (from httpx<1,>=0.23.0->langsmith>=0.3.45->langchain-core<0.4.0,>=0.3.68->langchain-google-genai) (4.10.0)\n",
      "Requirement already satisfied: httpcore==1.* in /opt/anaconda3/lib/python3.13/site-packages (from httpx<1,>=0.23.0->langsmith>=0.3.45->langchain-core<0.4.0,>=0.3.68->langchain-google-genai) (1.0.9)\n",
      "Requirement already satisfied: h11>=0.16 in /opt/anaconda3/lib/python3.13/site-packages (from httpcore==1.*->httpx<1,>=0.23.0->langsmith>=0.3.45->langchain-core<0.4.0,>=0.3.68->langchain-google-genai) (0.16.0)\n",
      "Requirement already satisfied: sniffio>=1.1 in /opt/anaconda3/lib/python3.13/site-packages (from anyio->httpx<1,>=0.23.0->langsmith>=0.3.45->langchain-core<0.4.0,>=0.3.68->langchain-google-genai) (1.3.0)\n"
     ]
    }
   ],
   "source": [
    "!pip install docx2txt pypdf unstructured\n",
    "!pip install langchain-community\n",
    "!pip install langchain-google-genai\n"
   ]
  },
  {
   "cell_type": "code",
   "execution_count": 17,
   "id": "dcc6a5d1",
   "metadata": {},
   "outputs": [
    {
     "name": "stdout",
     "output_type": "stream",
     "text": [
      "1\n",
      " Split the documnents into 41 chunks\n"
     ]
    }
   ],
   "source": [
    "from langchain_community.document_loaders import Docx2txtLoader,PDFMinerLoader\n",
    "from langchain_text_splitters import RecursiveCharacterTextSplitter\n",
    "from langchain_google_genai import GoogleGenerativeAIEmbeddings\n",
    "from typing import List\n",
    "from langchain_core.documents import Document\n",
    "\n",
    "text_splitter = RecursiveCharacterTextSplitter(\n",
    "    chunk_size=1000,\n",
    "    chunk_overlap=200,\n",
    "    length_function=len\n",
    "    )\n",
    "docx_loader = Docx2txtLoader(\"//Users/manog/Ds_AI/Project/RAG_Langsmit_FastApi/data/FYP-Report.docx\")\n",
    "documents = docx_loader.load()\n",
    "\n",
    "print(len(documents))\n",
    "\n",
    "splits = text_splitter.split_documents(documents)\n",
    "print(f\" Split the documnents into {len(splits)} chunks\")"
   ]
  },
  {
   "cell_type": "code",
   "execution_count": 18,
   "id": "b78e2f3b",
   "metadata": {},
   "outputs": [
    {
     "data": {
      "text/plain": [
       "Document(metadata={'source': '//Users/manog/Ds_AI/Project/RAG_Langsmit_FastApi/data/FYP-Report.docx'}, page_content=\"3\\n\\nMedEase\\n\\n\\n\\n\\n\\n\\n\\n\\n\\n\\n\\nSubmitted By\\n\\nRashid Ali   MCS-172024\\n\\nZafar Habib   MCS-172041\\n\\n\\n\\nSession 2017 – 2019\\n\\n\\n\\nDepartment of Computer Science\\n\\n\\n\\nKhwaja Fareed University of Engineering & Information Technology\\n\\n\\t\\t\\tRahim Yar Khan\\n\\nProject Detail\\n\\nType (Nature of project)\\n\\n[✔ ] Development  \\t[  ] Research \\t\\t[  ] R&D\\n\\nProject Group Members\\n\\nSr.#\\n\\nReg. #\\n\\nStudent Name\\n\\nEmail ID\\n\\n*Signature\\n\\n(i)\\n\\nMCS172024\\n\\nRashid Ali\\n\\nJamrashid633@gmail.com\\n\\n\\n\\n(ii)\\n\\nMCS172041\\n\\nZafar Habib\\n\\nZafar.habib.503@gmail.com\\n\\n\\n\\n*The candidates confirm that the work submitted is their own and appropriate credit has been given where reference has been made to work of others\\n\\n\\n\\nPlagiarism Free Certificate\\n\\nThis is to certify that, I am ________________________ S/D/o _______________________, group leader of FYP under registration no _________________ at Computer Science Department, Khwaja Fareed University of Engineering and Information Technology, Rahim Yar Khan. I declare that my FYP proposal is checked by my supervisor and the similarity index is ________% that is less than 20%, an acceptable limit by HEC. Report is attached herewith as Appendix A.\\n\\n\\tDate: ____________ Name of Group Leader: ________________________ Signature: _____________ \\n\\n\\n\\nName of Supervisor: _____________________ \\tCo-Supervisor (if any):____________________\\n\\nDesignation:\\t_____________________ \\tDesignation:\\t\\t_____________________\\n\\nSignature:\\t\\t_____________________ \\tSignature:\\t\\t_____________________\\n\\n\\n\\nHoD: \\t\\t_____________________\\t\\n\\nSignature:\\t\\t_____________________\\n\\nAbstract\\n\\nThe proposed project is a smart appointment booking system that provides patients or any user an easy way of booking a doctor’s appointment online. This is a web based application that overcomes the issue of managing and booking appointments according to user’s choice or demands. The task sometimes becomes very tedious for the compounder or doctor himself in manually allotting appointments for the users as per their availability. Hence this project offers an effective solution where users can view various booking slots available and select the preferred date and time. The already booked space will be marked yellow and will not be available for anyone else for the specified time. This system also allows users to cancel their booking anytime. The application uses Latest Web Technologies as a front-end and PHP with MySQL database as the back-end.\\n\\nDoctor Appointment System (DAS) is a Web app which sets up online communication between a doctor and a patient. This app is helpful to patients to ask questions and state their concerns to doctors regarding their health condition. This app will facilitate the patients to interact with doctors without making any physical appointments, but the patients are restricted to only one message per day before receiving a reply. If the patient gets a response from the corresponding doctor, the patient is allowed to send another message. In addition using this app, the patient can make an appointment to meet the doctor in clinic/hospital. DAS app would also facilitate the patient’s pharmacy selection to pick up the medication. Similarly, this app is beneficial to doctors by providing the following functionalities: patient interaction through messaging, sending prescription to pharmacies, confirming appointments, information sharing with other doctors, and patient referrals. Unlike other similar kinds of apps, DAS has unique features such as issuing online prescription to patients, referring patients to a specialist, sending health tips to patients, and effectively, reducing the cost of customer service and providing a vital communication link between doctors and patients.\\n\\n\\n\\n\\nAcknowledgement\\n\\nFirst and for most, we would like to express our sincere thanks to the almighty ALLAH for the gift of life, wisdom understanding he has given to us, a reason for our existence and to our families for the love and support they had been provided throughout our life. \\n\\nMr. Muhammad Afzal whom we regard as our parent and supervisor, we thank him for the expertise and intelligence he has displayed whole supervising this project. We believe this good work in a result of his good guidance and cooperation. \\n\\nWe cannot forget our friends in the faculty of Computer Science & Information Technology for the academic interactions and Ideas.  \\n\\nMay Allah bless them and keep them safe. We love you all.   \\n\\n\\n\\n\\nContents\\n\\nCHAPTER 1\\t1\\n\\n\\t\\t1.1\\tIntroduction\\t1\\n\\n\\t\\t1.2\\tSystem Overview\\t1\\n\\n\\t\\t1.3\\tObjectives\\t1\\n\\n\\t\\t1.4\\tProblem definition\\t2\\n\\n\\t\\t1.5\\tProject Scope\\t2\\n\\n\\t\\t1.6\\tAdvantages\\t2\\n\\n\\t\\t1.7\\tFeatures\\t2\\n\\n2\\tCHAPTER 2\\t4\\n\\n\\t\\t2.1\\tExisting System\\t4\\n\\n\\t\\t2.2\\tDrawbacks of existing system\\t4\\n\\n\\t\\t2.3\\tProposed system\\t4\\n\\n\\t\\t2.4\\tNeed to replace existing system:\\t4\\n\\n\\t\\t2.5\\tUnderstanding the proposed system\\t4\\n\\n\\t\\t2.6\\tUser involvement\\t4\\n\\n\\t2.6.1\\tRequirements elicitation\\t5\\n\\n\\t2.6.2\\tRequirements analysis\\t5\\n\\n3\\tCHAPTER 3\\t6\\n\\n\\t\\t3.1\\tDetailed description of Proposed System\\t6\\n\\n\\t\\t3.2\\tFeatures of Proposed System\\t6\\n\\n\\t\\t3.3\\tAdvantages of Proposed System\\t7\\n\\n\\t\\t3.4\\tScope of Proposed System\\t7\\n\\n\\t\\t3.5\\tHurdles to optimize the current system\\t8\\n\\n4\\tChapter 4\\t9\\n\\n\\t\\t4.1\\tSoftware Process Model\\t9\\n\\n\\t\\t4.2\\tSoftware Requirement analysis\\t9\\n\\n\\t4.2.1\\tFunctional Requirements\\t9\\n\\n\\t4.2.2\\tNon Functional Requirements\\t9\\n\\n\\t\\t4.3\\tDesign\\t10\\n\\n\\t\\t4.4\\tBenefits of selected Model\\t10\\n\\n\\t\\t4.5\\tLimitations of selected Model\\t10\\n\\n\\t\\t4.6\\tUse Case Diagram\\t11\\n\\n\\t\\t4.7\\tCollaboration Diagram\\t12\\n\\n\\t\\t4.8\\tClass Diagram\\t13\\n\\n5\\tChapter 5\\t14\\n\\n\\t\\t5.1\\tImplementation\\t14\\n\\n\\t\\t5.2\\tCode details\\t14\\n\\n6\\tChapter 6\\t15\\n\\n\\t\\t6.1\\tDevelopment of computer program\\t15\\n\\n\\t\\t6.2\\tHardware\\t15\\n\\n\\t\\t6.3\\tSoftware\\t15\\n\\n\\t\\t6.4\\tTool Used\\t15\\n\\n\\t\\t6.5\\tUser interface Component\\t16\\n\\n\\t6.5.1\\tHome Page\\t16\\n\\n\\t6.5.2\\tFooter\\t16\\n\\n\\t6.5.3\\tContact\\t17\\n\\n\\t6.5.4\\tSignUP\\t17\\n\\n\\t6.5.5\\tSignin\\t18\\n\\n\\t6.5.6\\tSearch\\t18\\n\\n\\t\\t6.6\\tProgram Coding\\t19\\n\\n\\t6.6.1\\tHome\\t19\\n\\n\\t6.6.2\\tFooter\\t20\\n\\n\\t6.6.3\\tSignUP\\t20\\n\\n\\t6.6.4\\tSignIn\\t21\\n\\n\\t6.6.5\\tContact\\t21\\n\\n7\\tChapter 7\\t22\\n\\n\\t\\t7.1\\tTesting\\t22\\n\\n\\t\\t7.2\\tType of Testing involved\\t22\\n\\n\\t\\t7.3\\tTesting Report\\t22\\n\\n\\t7.3.1\\tReliability testing\\t22\\n\\n\\t7.3.2\\tUsability testing\\t22\\n\\n\\t7.3.3\\tSpace testing\\t23\\n\\n\\t7.3.4\\tScalability testing\\t24\\n\\n\\t7.3.5\\tEthic testing\\t24\\n\\n8\\tChapter 8\\t25\\n\\n\\t\\t8.1\\tResults\\t25\\n\\n\\t\\t8.2\\tEvaluation\\t25\\n\\n\\t\\t8.3\\tConclusions and Further Work\\t25\\n\\n9\\tChapter 9\\t27\\n\\n\\tReferences\\t27\\n\\n\\n\\n\\n\\n\\nCHAPTER 1\\n\\nIntroduction \\n\\nAim of this project is to create doctor patient handling management system that will help doctors in their work and will also help patients to book doctor appointments and view medical progress. The system allows doctors to manage their booking slots online. Patients are allowed to book empty slots online and those slots are reserved in their name. The system manages the appointment data for multiple doctors of various date and times. Each time a user visits a doctor his/her medical entry is stored in the database by doctor. Next time a user logs in he may view his/her entire medical history as and when needed. At the same time a doctor may view patient’s previews medical history while the patient visits him. The system also consists of Blood donor module. This module allows for Blood donation registration as well as Blood group search. The module is designed to help urgent Blood requirements through easy/instant searches.\\n\\nSystem Overview \\n\\nSmart appointment booking system provides patients or any user an easy way of booking a doctor’s appointment online.  A web based application that overcomes the issue of managing and booking appointments according to user’s choice or demands.\\n\\nObjectives \\n\\nThe main objective of this project is to develop a website for a medical clinic to provide an efficient and economical way of making appointments and help in all the related tasks, clinic and doctor time table management, queue management, and patient appointments exportation. It is wanted that patients have a fast and easy access to clinic’s services and administering of all the appointments made. Meanwhile, it is also required that doctors can easily see all the upcoming appointments and give the results to these appointments to the patients.\\n\\nOur modern age of technology is greatly depends on internet. Everything is converted to computer based for easier and faster communication. Here I tried to develop such a system, which will ensure some aspects:\\n\\n\\tReliability, maintainability, cost-effectiveness and a nice user-friendly environment.\\n\\n\\tThe objective of the project is to provide an opportunity of getting doctor appointment easily.\\n\\n\\tProper management of appointments, securely stores all records.\\n\\n\\tSave money and time.\\n\\nProblem definition\\n\\nThe study intends to investigate the benefits of Online Clinic Reservation System to clinic’s staffs and patients. In the current marketplace there are several apps for communication between doctors and patients but most of their functionalities are commercial, and not really helpful to the users. There are no apps which actually meet the patient’s basic needs and no such apps that fulfil the patient’s expectations from the doctors. Though these apps have publicized themselves as the best service providers but all the service is just limited to money making by making appointments with doctors, tracking the visit history, patient billings, and very minimal interaction related to disease condition of the patients. This project aims at changing this kind of misleading and unnecessary interaction between doctors and patients, with a new initiative which focuses more on patient benefits relating to his/her disease treatment and facilitating the doctors with an easy and optimal way to treat the patients. Specifically, the study seeks to answer the following statements: \\n\\nHow to minimize the time and effort being spent on appointment reservation? \\n\\nWho will be benefited on the implementation of online clinic reservation system?\\n\\n How to easily manage and update information of patients and doctors?\\n\\n How to schedule patients’ appointments conveniently?\\n\\nProject Scope\\n\\nThis system help reduce the problems occur when using the manual system and helps patients to skip endless queues. The important thing is it will become easier for the data record and retrieval. This software also stores all the patient details, patients profile, prescriptions etc. This system enables doctors and clinic assistant to manage patient records and appointments. User can enter their details, update their profile and they can select doctors to make appointments. \\n\\nAdvantages\\n\\n\\tEasily take doctor appointment.\\n\\n\\tNo Need to do Paper Work.\\n\\n\\tTo save the environment by using paper free work.\\n\\n\\tTo increase the accuracy and efficiency of the procedure.\\n\\n\\tManagement of Patient and doctor Data.\\n\\n\\t\\n\\nFeatures\\n\\n\\tAppointments would be done in more better and efficient ways\\n\\n\\tBetter user experience. \\n\\n\\tVery easy to access. \\n\\n\\testablish real time communication\\n\\n\\tSystem will compatible with user device such as pc, laptop, tab & smart phone. \\n\\n\\n\\n\\n\\n\\n\\n\\n\\n\\nCHAPTER 2\\n\\nExisting System\\n\\nPresently people are making appointments manually. This is a time consuming process, patient has to physically go to the clinic in order to make appointment. Some clinics provide the opportunity to make appointments by placing a phone call. But in this case, people are often left unattended\\n\\nDrawbacks of existing system\\n\\nBy analyzing the existing system, some of its drawbacks are listed.\\n\\n\\tTime consuming.\\n\\n\\tLack of efficiency.\\n\\n\\tNeeds to be physically present at the clinic.\\n\\n\\tCan’t make appointments in advance for long intervals.\\n\\n\\t\\n\\nProposed system\\n\\nProposed system will overcome the drawbacks of existing system. Existing system is manual and available appointment applications are not user friendly. Proposed system is computerized and user friendly. The proposed system has many advantages.\\n\\nNeed to replace existing system:\\n\\n As mostly existing systems are manual, less efficient and time consuming therefore it needed to replace the existing system.\\n\\nUnderstanding the proposed system\\n\\nThis project aims at changing this kind of misleading and unnecessary interaction between doctors and patients, with a new initiative which focuses more on patient benefits relating to his/her disease treatment and facilitating the doctors with an easy and optimal way to treat the patients\\n\\nUser involvement\\n\\nHere we will specify what kind of users will be using the website. We can say that we will have 3 types of users:\\n\\nGuests: those are the users that are not registered and access our website. We can say that they are our potential clients so we have to let them see all the information they might be interested in about services provided by.\\n\\nPatients: this user group is the one that created an account in our website and had logged in. They have all the functionality provided to Guest user group (except register/login form and make guest appointments)\\n\\nDoctors: this user group are the ones logged in with a credentials provided to them by a company. They have Guest functionality (except Register/login form and make guest appointments\\n\\nRequirements elicitation \\n\\nAfter analyzing the data collected, we formulated a number of requirements namely user requirement, system hardware software attribute. These were grouped as user, functional, non-functional and systems requirements. During data collection we investigated and found out how the current system operates, not only that but also tried out which problems are faced and how best they can be settled. The users described some of the basic requirements of the system this includes Search for Patients, Register Patient, Update record, Doctor information record, view doctor availability record and view all types of reports.  \\n\\nRequirements analysis\\n\\nAccept of submissions in form of raw patients; perform analysis of financial to authenticate the users of the system. The system must verify validate all users input ant user must be notified in case of errors detected in the database, the system should allow room for expansion. \\n\\n\\n\\n\\n\\n\\n\\n\\nCHAPTER 3\\n\\nDetailed description of Proposed System\\n\\nDoctor Appointment System (DAS) is a Web app which sets up online communication between a doctor and a patient. This app is helpful to patients to ask questions and state their concerns to doctors regarding their health condition. This app will facilitate the patients to interact with doctors without making any physical appointments, but the patients are restricted to only one message per day before receiving a reply. If the patient gets a response from the corresponding doctor, the patient is allowed to send another message. In addition using this app, the patient can make an appointment to meet the doctor in clinic/hospital. DAS app would also facilitate the patient’s pharmacy selection to pick up the medication. Similarly, this app is beneficial to doctors by providing the following functionalities: patient interaction through messaging, sending prescription to pharmacies, confirming appointments, information sharing with other doctors, and patient referrals. Unlike other similar kinds of apps, DAS has unique features such as issuing online prescription to patients, referring patients to a specialist, sending health tips to patients, and effectively, reducing the cost of customer service and providing a vital communication link between doctors and patients.\\n\\nFeatures of Proposed System\\n\\nThis is a powerful medical doctor appointment scheduling software to meet all challenges that may surface during your appointment scheduling and hospital management. This online doctor appointment booking software is user-friendly at both front and back ends, which means that the process of booking appointments and scheduling management of DAS is easy for both the doctors and patients\\n\\n\\tAppointments would be done in more better and efficient ways\\n\\n\\tBetter user experience. \\n\\n\\tVery easy to access. \\n\\n\\testablish real time communication\\n\\n\\tSystem will compatible with user device such as pc, laptop, tab & smart phone. \\n\\nAdvantages of Proposed System\\n\\nThe use of proposed system will avoid the problems of the existing system and we also get a new system for managing information under the Clinic Appointment System. The proposed system offers:\\n\\n\\tManual work which is time consuming can be reduced.\\n\\n\\tEasy to store data in the database.\\n\\n\\tAdministrator can add/remove new doctors, patients & departments.\\n\\n\\tIncrease processing speed.\\n\\n\\tAn easily access environment for users.\\n\\n\\tDoctors can view/cancel appointments.\\n\\n\\tDoctors can send prescription.\\n\\n\\tAutomatic removal of past appointments.\\n\\n\\tEasy to use real time search facility.\\n\\n\\tResponsive layout that fits all devices.\\n\\n\\n\\nScope of Proposed System\\n\\nThis system help reduce the problems occur when using the manual system and helps patients to skip endless queues. The important thing is it will become easier for the data record and retrieval. This software also stores all the patient details, patients profile, prescriptions etc. This system enables doctors and clinic assistant to manage patient records and appointments. User can enter their details, update their profile and they can select doctors to make appointments. Other than that, the system is user friendly and it can help the clinic to manage their appointments. The system helps to avoid making duplicate appointments. Users can view available doctors and their timings and can make appointments according to it. Users also get an option to cancel their appointments. Users can view their upcoming appointments and past appointments are deleted automatically.\\n\\nHurdles to optimize the current system\\n\\nTraditionally, medical appointments have been made with schedulers over the telephone or in person. These methods are based on verbal communications with real people and allow for maximum flexibility in complicated situations. However, because these traditional methods require the intervention of schedulers, the ability to get a timely appointment is not only limited by the availability of appointment slots, but also by the schedulers and phone lines. Patients’ satisfaction with appointment booking is influenced by their ability to book at the right time with the right health service provider\\n\\n\\nChapter 4\\n\\nSoftware Process Model\\n\\nA\\xa0software process model represents the order in which the activities of\\xa0software development\\xa0will be undertaken. It describes the sequence in which the phases of the\\xa0software\\xa0lifecycle will be performed. Therefore we chose waterfall model for our project.\\n\\n\\n\\nSoftware Requirement analysis\\n\\nIf you are into software development at some point or the other, you would have bumped into the\\xa0Waterfall Model.\\n\\nConsidered as the traditional method of explaining the software development process in software engineering, waterfall model happens to clarify the process into a linear flow with a specified sequence to let the users understand that further level is made progressive on completion of the previous one.\\n\\nMoreover, this methodology also talks about the fact that going back to deal with the changes is not possible.\\n\\nFunctional Requirements\\n\\nTypically, functional requirements will specify a behaviour or function, for example:\\n“Display the name, total size, available space and format of a flash drive connected to the USB port.” Other examples are “add customer” and “print invoice”. In this project functional requirements are as follows.\\n\\nCreating Doctor Profile\\n\\nCreating Patient Profile\\n\\nVerifying password at LOG IN time\\n\\nMaking Appointment\\n\\nNotifying Patient and Doctor about Appointment\\n\\nPosting Feedback with accuracy\\n\\nNon Functional Requirements\\n\\nNon-Functional requirements cover all the requirements which are not covered in Functional requirements. Non-Functional requirements are as follows.\\n\\nPerformance will be good because it’s and web based system, that you can use on any device which has internet access and browser access\\n\\nDatabase work will be good for both doctor and patient and will be fast\\n\\nUpdate field will be immediately appear for doctor and patient\\n\\nAccuracy will be good and also constraints works very will\\n\\nDesign\\n\\nAfter interpretation of the data, tables were drawn and process of data determined to guide the researcher of the implementation stage of the project. The tools, which were employed during this methodology stage, where mainly tables, Data Flow Diagrams and Entity Relationship Diagrams. The design ensures that only allows authorized users to access the systems information.  \\n\\nBenefits of selected Model\\n\\nEvery software developed is different and requires a suitable SDLC approach to be followed based on the internal and external factors. Some situations where the use of Waterfall model is most appropriate are:\\n\\nRequirements are very well documented, clear and fixed.\\n\\nProduct definition is stable.\\n\\nTechnology is understood and is not dynamic.\\n\\nThe project is short.\\n\\nSimple and easy to understand and use\\n\\nEasy to manage due to the rigidity of the model. Each phase has specific deliverables and a review process.\\n\\nPhases are processed and completed one at a time.\\n\\nEasy to arrange tasks.\\n\\n\\n\\nLimitations of selected Model\\n\\n\\tFollowing are some of the limitations of waterfall model we noticed during the development:\\n\\nOnly matches precise needs\\n\\nNot applicable for maintenance projects\\n\\nNo option to know possible outcome of a project\\n\\nNot excellent for long and ongoing projects\\n\\n\\n\\nUse Case Diagram\\n\\n\\n\\n\\n\\nCollaboration Diagram\\n\\n\\n\\n\\n\\n\\nClass Diagram\\n\\n\\n\\n\\n\\n\\n\\n\\n\\n\\n\\n\\nChapter 5\\n\\nImplementation\\n\\nWith inputs from system design, the system is first developed in small programs called units, which are integrated in the next phases. Each unit is developed and tested for its functionality which is referred to as Testing.\\n\\nCode details\\n\\nWith inputs from system design, the code details are as follows:\\n\\nFront-End: HTML, CSS, JS, and Bootstrap\\n\\nBackend: PHP, JS\\n\\n\\n\\n\\nChapter 6\\n\\nDevelopment of computer program\\n\\nIn the first place, we should consider all the necessary things to run effectively the website. There are three types of resources that we will need: \\n\\nHardware: all the physical devices needed \\n\\nSoftware: all the programs needed in our hardware\\n\\nDevelopers: people that can code the project\\n\\nHardware\\n\\nSL\\n\\nHardware \\n\\nDescription \\n\\n01\\n\\nProcessor \\n\\n2.4 GHz Processor speed \\n\\n02\\n\\nMemory \\n\\n2 GB RA\\n\\n03 \\n\\nDisk Space \\n\\n500 GB \\n\\nSoftware\\n\\nSL\\n\\nSoftware \\n\\nDescription\\n\\n01\\n\\nOperating System \\n\\nWindows Server 2008,Windows7\\n\\n02\\n\\nXAMP\\n\\nLocal host\\n\\n03 \\n\\nIDE\\n\\nNotepad/notepad++/sublime\\n\\nTool Used\\n\\nHTML\\n\\nCSS\\n\\nBOOTSTAP\\n\\nJAVASCRIPT\\n\\nPHP\\n\\n\\n\\n\\n\\n\\n\\n\\n\\n\\n\\n\\n\\nUser interface Component\\n\\n     Home Page\\n\\n\\n\\nFooter\\n\\n\\n\\n\\n\\nContact\\n\\n\\n\\n\\n\\nSignUP\\n\\n\\n\\nSignin\\n\\n\\n\\nSearch\\n\\n\\n\\nProgram Coding\\n\\n Home\\n\\n\\n\\n\\n\\nFooter\\n\\n\\n\\nSignUP\\n\\n\\n\\nSignIn\\n\\n\\n\\nContact\\n\\n\\n\\nChapter 7\\n\\nTesting\\n\\nEach one of the requirements need to have a way to evaluating if they have been successfully done or not. In this section, we will put the different tests that will be conducted to see if the previous requirements have been implemented successfully.\\n\\nType of Testing involved \\n\\nReliability testing\\n\\nUsability testing\\n\\nSpace testing\\n\\nPortability testing\\n\\nPerformance testing\\n\\nSecurity testing\\n\\nScalability testing\\n\\nEthic testing\\n\\n\\n\\nTesting Report\\n\\nReliability testing\\n\\n Reliability testing is used to find out the errors, bugs or failures before the deployments of the final product. \\n\\nUnluckily, software reliability cannot be directly measured as of now. Other factors should be measured instead such as development process, faults and failures found. \\n\\nWe made ‘x’ number of tests (usually 7) and saw how many of them failed in some sort. When a requirement succeeded, we proceeded with the development.\\n\\n\\n\\nUsability testing\\n\\n \\tUsability is tested by testers to see how easy it is to use the system. It is a black box testing (internal structure/ design/ implementation of the item being tested is not known to the tester) which will also reveal how comfortable with our system they are. It will test how easy the website is to use and how easy is to learn to use. \\n\\nThe tests that we will perform are: \\n\\nTake some testers and give them some tasks to do such as make an appointment, create an account or see the appointments made by them. It could be also done for doctors but with different things to do. While they do it, we time them and see how much time they needed to do the action. If they accomplished it in less than the amount specified in a requirement, than the test was successful.\\n\\n At the end of the testing, each tester will give his/her feedback as to what things they found really nice and what things they found badly developed, hard to spot or just things to improve on in general.\\n\\nSpace testing \\n\\nSize testing is used to see how much memory, both RAM and/or hard drive is needed for a correct functioning of a website. \\n\\nWe require that users do not need to install any additional software or download anything other than a browser with which they will access our website.\\n\\nThis requirement is quite easy to compute. We will see if we can use a website with just a browser installed on a PC.\\n\\nPortability testing \\n\\nWe will see how the website functions on different devices. We used it on different browsers (Chrome, Firefox, Opera, Safari) and saw website’s performance on all of them. \\n\\nPerformance testing\\n\\n \\tPerformance testing tests how fast a system responds in different environments. It also measures the system workload.\\n\\nIf finance allows it, a clinic could hire a lab to do quantitative tests such as measuring the response time in MIPS (millions of instructions per second). \\n\\nSince we are limited in budget, we will test each functionality several times and compute the average time for each one of them. The average time should be less than 5 seconds.\\n\\n And for concurrent users, we will just connect several users to a website at the same time and see how it performs. If all will be fine, the requirements will be satisfied.\\n\\n\\n\\nSecurity testing: \\n\\nSecurity testing checks whenever a software/website is secure or not by checking is it is vulnerable to attacks, of anyone can access a database or if anyone can login without authorization. Several test cases exist to check some of the security of the website that we performed before deployment phase: \\n\\n• Access bookmarked page without logging into the system \\n\\n• Check password strengths \\n\\n• Restricted pages can’t be accessed by restricted users \\n\\n\\n\\nScalability testing\\n\\nScalability testing tests the ability of a system to continue to function when more size or bandwidth is required.\\n\\nWe will achieve it by using a remote web hosting that will enable us to control the amount of bandwidth we will have and the storage space provided to us \\n\\n\\n\\nEthic testing \\n\\nWhen users will make appointments, they will be asked to read their rights and obligations and accept them. This will be asked every time they make an appointment. \\n\\nThe risk of services will be notified by the doctors in a visit.\\n\\n\\n\\n\\nChapter 8\\n\\nResults\\n\\nMaking clinic appointments shouldn’t be hard, but often due to the manual way of making appointments, patients find it’s hard to make appointments with their desired doctor. Often patients have to wait in long queues and yet sometimes they won’t be able to book their appointments. Clinic Appointment System is an easy solution for such patients. They don’t have to wait in endless queues or ask someone to do them a favour, because Clinic Appointment system has everything they need to make an appointment with their desired doctor. Clinic Appointment System comes with a clean and responsive interface, so that user can make appointments from every device, all they need is an internet connection.\\n\\nEvaluation\\n\\nAs discussed in the previous chapters the main problem that we addressed was dealing with patient, doctor and hospital document. It is the above situation that above us to techniques of developing this Online Doctor Appointment System to be used the Patient, Doctor and Hospital to enable them to handle details on policies efficiently and effectively. The Project has implemented most of the objectives stipulated in earlier chapter. The Online Doctor Appointment System offers a number of benefits to the user\\n\\n\\n\\nConclusions and Further Work\\n\\nThe core reason for the establishment of computerizing Online Doctor Appointment System is to enable the convenient, fair environment between patient and doctors. Therefore the IT used should support the core objective of the system if it is to remain relevant to the hospital. \\n\\nThe idea of this feature came into my mind because the patients living in faraway places have to come multiple times for the “laboratory test results” and “doctors' advice/ follow-up appointment” based on those tests. So, after the laboratory tests, patients just have to book an online time and they can have an online conversation with some fewer fees. Online payment is again another feature I would like to add at later stages. And laboratory testing services \\n\\n\\n\\n\\n\\n\\nChapter 9\\n\\nReferences\\n\\n\\n\\n \\n\\n[1]  \\tSoftware design description,        http://en.wikipedia.org/wiki/software_design_description, retrieved on January 5, 2015 \\n\\n[2] \\tChutisant Kerdvibulvech+, Nwe Ni Win, The Dentist online Reservation System Design and Implementation Web Based Application and Database Management System Project” , (ICETC2012) IPCSIT vol.43(2012) \\n\\n[3] \\tXiuju Zhan, Xiufeng Lin, “Design and Implimentation of Clinic Appointment Registration System”, Scientific research, Engineering, 2013, 5, 527-529 \\n\\n[4] \\tMohd Helmy Abd Wahab, Norlida Hassn, Zaidah Wali Mohd,Hafizul Fahri Hanafi,” WEB BASE INTELLIGENT APPOIINTMENT SYSTEM”, Seminar Kebangsaan E-komuniti 2009 Merapatkan Jurang Digital: asyarakat Berpengetahuan, Model Malaysia \\n\\n[5] \\tTesting, http:// en.wikipedia.org/wiki/Sorftware_testing, retrieved on March 21, 2015. XAMPP, http:/en.wikipedia.org/wiki/XAMPP, retrieved on March 11, 2015. \\n\\n\\n\\n\\n\\n\\n\\n\\n\\n\\n\\n\\n\\n\\n\\nPage | 27\")"
      ]
     },
     "execution_count": 18,
     "metadata": {},
     "output_type": "execute_result"
    }
   ],
   "source": [
    "documents[0]"
   ]
  },
  {
   "cell_type": "code",
   "execution_count": 19,
   "id": "03319443",
   "metadata": {},
   "outputs": [
    {
     "data": {
      "text/plain": [
       "Document(metadata={'source': '//Users/manog/Ds_AI/Project/RAG_Langsmit_FastApi/data/FYP-Report.docx'}, page_content='patient interaction through messaging, sending prescription to pharmacies, confirming appointments, information sharing with other doctors, and patient referrals. Unlike other similar kinds of apps, DAS has unique features such as issuing online prescription to patients, referring patients to a specialist, sending health tips to patients, and effectively, reducing the cost of customer service and providing a vital communication link between doctors and patients.')"
      ]
     },
     "execution_count": 19,
     "metadata": {},
     "output_type": "execute_result"
    }
   ],
   "source": [
    "splits [5]"
   ]
  },
  {
   "cell_type": "code",
   "execution_count": 20,
   "id": "1b12730d",
   "metadata": {},
   "outputs": [],
   "source": [
    "#import nltk\n",
    "#nltk.download('punkt')\n",
    "#!pip install pypdf"
   ]
  },
  {
   "cell_type": "code",
   "execution_count": 21,
   "id": "802b1d36",
   "metadata": {},
   "outputs": [
    {
     "name": "stdout",
     "output_type": "stream",
     "text": [
      "loaded 360 documents from //Users/manog/Ds_AI/Project/RAG_Langsmit_FastApi/data\n",
      "Split into 847 chunks\n"
     ]
    }
   ],
   "source": [
    "import os\n",
    "from langchain_community.document_loaders import PyPDFLoader\n",
    "# 1 . function to load documents from a folder\n",
    "def load_documents(folder_path: str) -> List[Document]:\n",
    "    documents = []\n",
    "    for filename in os.listdir(folder_path):\n",
    "      file_path = os.path.join(folder_path, filename)\n",
    "      if filename.endswith('.pdf'):\n",
    "        loader = PyPDFLoader(file_path)\n",
    "      elif filename.endswith('.docx'):\n",
    "        loader = Docx2txtLoader(file_path)\n",
    "      else:\n",
    "         print(f\"Unsupported file type: {filename}\")\n",
    "         continue\n",
    "      documents.extend(loader.load())\n",
    "    return documents\n",
    "\n",
    "#Load documents form a folder\n",
    "folder_path = \"//Users/manog/Ds_AI/Project/RAG_Langsmit_FastApi/data\"\n",
    "documents = load_documents(folder_path)\n",
    "\n",
    "print(f\"loaded {len(documents)} documents from {folder_path}\")\n",
    "splits = text_splitter.split_documents(documents)\n",
    "print(f\"Split into {len(splits)} chunks\")"
   ]
  },
  {
   "cell_type": "code",
   "execution_count": 22,
   "id": "923fc463",
   "metadata": {},
   "outputs": [
    {
     "name": "stdout",
     "output_type": "stream",
     "text": [
      "Created embeddings for 847document cheunks.\n"
     ]
    }
   ],
   "source": [
    "#Embedding the documents\n",
    "\n",
    "embeddings = GoogleGenerativeAIEmbeddings(model=\"models/embedding-001\")\n",
    "document_embeddings = embeddings.embed_documents([split.page_content for split in splits])\n",
    "\n",
    "print(f\"Created embeddings for {len(document_embeddings)}document cheunks.\")"
   ]
  },
  {
   "cell_type": "code",
   "execution_count": 23,
   "id": "06e9ce09",
   "metadata": {},
   "outputs": [
    {
     "name": "stderr",
     "output_type": "stream",
     "text": [
      "WARNING: All log messages before absl::InitializeLog() is called are written to STDERR\n",
      "I0000 00:00:1756383105.292052  569754 fork_posix.cc:71] Other threads are currently calling into gRPC, skipping fork() handlers\n"
     ]
    },
    {
     "name": "stdout",
     "output_type": "stream",
     "text": [
      "Requirement already satisfied: sentence-transformers in /opt/anaconda3/lib/python3.13/site-packages (5.1.0)\n",
      "Requirement already satisfied: transformers<5.0.0,>=4.41.0 in /opt/anaconda3/lib/python3.13/site-packages (from sentence-transformers) (4.55.2)\n",
      "Requirement already satisfied: tqdm in /opt/anaconda3/lib/python3.13/site-packages (from sentence-transformers) (4.67.1)\n",
      "Requirement already satisfied: torch>=1.11.0 in /opt/anaconda3/lib/python3.13/site-packages (from sentence-transformers) (2.8.0)\n",
      "Requirement already satisfied: scikit-learn in /opt/anaconda3/lib/python3.13/site-packages (from sentence-transformers) (1.6.1)\n",
      "Requirement already satisfied: scipy in /opt/anaconda3/lib/python3.13/site-packages (from sentence-transformers) (1.15.3)\n",
      "Requirement already satisfied: huggingface-hub>=0.20.0 in /opt/anaconda3/lib/python3.13/site-packages (from sentence-transformers) (0.34.4)\n",
      "Requirement already satisfied: Pillow in /opt/anaconda3/lib/python3.13/site-packages (from sentence-transformers) (11.1.0)\n",
      "Requirement already satisfied: typing_extensions>=4.5.0 in /opt/anaconda3/lib/python3.13/site-packages (from sentence-transformers) (4.12.2)\n",
      "Requirement already satisfied: filelock in /opt/anaconda3/lib/python3.13/site-packages (from transformers<5.0.0,>=4.41.0->sentence-transformers) (3.17.0)\n",
      "Requirement already satisfied: numpy>=1.17 in /opt/anaconda3/lib/python3.13/site-packages (from transformers<5.0.0,>=4.41.0->sentence-transformers) (2.1.3)\n",
      "Requirement already satisfied: packaging>=20.0 in /opt/anaconda3/lib/python3.13/site-packages (from transformers<5.0.0,>=4.41.0->sentence-transformers) (24.2)\n",
      "Requirement already satisfied: pyyaml>=5.1 in /opt/anaconda3/lib/python3.13/site-packages (from transformers<5.0.0,>=4.41.0->sentence-transformers) (6.0.2)\n",
      "Requirement already satisfied: regex!=2019.12.17 in /opt/anaconda3/lib/python3.13/site-packages (from transformers<5.0.0,>=4.41.0->sentence-transformers) (2024.11.6)\n",
      "Requirement already satisfied: requests in /opt/anaconda3/lib/python3.13/site-packages (from transformers<5.0.0,>=4.41.0->sentence-transformers) (2.32.3)\n",
      "Requirement already satisfied: tokenizers<0.22,>=0.21 in /opt/anaconda3/lib/python3.13/site-packages (from transformers<5.0.0,>=4.41.0->sentence-transformers) (0.21.4)\n",
      "Requirement already satisfied: safetensors>=0.4.3 in /opt/anaconda3/lib/python3.13/site-packages (from transformers<5.0.0,>=4.41.0->sentence-transformers) (0.6.2)\n",
      "Requirement already satisfied: fsspec>=2023.5.0 in /opt/anaconda3/lib/python3.13/site-packages (from huggingface-hub>=0.20.0->sentence-transformers) (2025.3.0)\n",
      "Requirement already satisfied: hf-xet<2.0.0,>=1.1.3 in /opt/anaconda3/lib/python3.13/site-packages (from huggingface-hub>=0.20.0->sentence-transformers) (1.1.7)\n",
      "Requirement already satisfied: setuptools in /opt/anaconda3/lib/python3.13/site-packages (from torch>=1.11.0->sentence-transformers) (72.1.0)\n",
      "Requirement already satisfied: sympy>=1.13.3 in /opt/anaconda3/lib/python3.13/site-packages (from torch>=1.11.0->sentence-transformers) (1.13.3)\n",
      "Requirement already satisfied: networkx in /opt/anaconda3/lib/python3.13/site-packages (from torch>=1.11.0->sentence-transformers) (3.4.2)\n",
      "Requirement already satisfied: jinja2 in /opt/anaconda3/lib/python3.13/site-packages (from torch>=1.11.0->sentence-transformers) (3.1.6)\n",
      "Requirement already satisfied: mpmath<1.4,>=1.1.0 in /opt/anaconda3/lib/python3.13/site-packages (from sympy>=1.13.3->torch>=1.11.0->sentence-transformers) (1.3.0)\n",
      "Requirement already satisfied: MarkupSafe>=2.0 in /opt/anaconda3/lib/python3.13/site-packages (from jinja2->torch>=1.11.0->sentence-transformers) (3.0.2)\n",
      "Requirement already satisfied: charset-normalizer<4,>=2 in /opt/anaconda3/lib/python3.13/site-packages (from requests->transformers<5.0.0,>=4.41.0->sentence-transformers) (3.3.2)\n",
      "Requirement already satisfied: idna<4,>=2.5 in /opt/anaconda3/lib/python3.13/site-packages (from requests->transformers<5.0.0,>=4.41.0->sentence-transformers) (3.7)\n",
      "Requirement already satisfied: urllib3<3,>=1.21.1 in /opt/anaconda3/lib/python3.13/site-packages (from requests->transformers<5.0.0,>=4.41.0->sentence-transformers) (2.3.0)\n",
      "Requirement already satisfied: certifi>=2017.4.17 in /opt/anaconda3/lib/python3.13/site-packages (from requests->transformers<5.0.0,>=4.41.0->sentence-transformers) (2025.8.3)\n",
      "Requirement already satisfied: joblib>=1.2.0 in /opt/anaconda3/lib/python3.13/site-packages (from scikit-learn->sentence-transformers) (1.4.2)\n",
      "Requirement already satisfied: threadpoolctl>=3.1.0 in /opt/anaconda3/lib/python3.13/site-packages (from scikit-learn->sentence-transformers) (3.5.0)\n"
     ]
    },
    {
     "name": "stderr",
     "output_type": "stream",
     "text": [
      "/var/folders/3j/h7c61sfx4qb54tspr5kz4hfr0000gn/T/ipykernel_36119/1974328308.py:3: LangChainDeprecationWarning: The class `HuggingFaceEmbeddings` was deprecated in LangChain 0.2.2 and will be removed in 1.0. An updated version of the class exists in the :class:`~langchain-huggingface package and should be used instead. To use it run `pip install -U :class:`~langchain-huggingface` and import as `from :class:`~langchain_huggingface import HuggingFaceEmbeddings``.\n",
      "  embeddings = SentenceTransformerEmbeddings(model_name=\"all-MiniLM-L6-v2\")\n",
      "E0000 00:00:1756383108.688954  571153 ssl_transport_security_utils.cc:114] Corruption detected.\n",
      "E0000 00:00:1756383108.688971  571153 ssl_transport_security_utils.cc:71] error:100003fc:SSL routines:OPENSSL_internal:SSLV3_ALERT_BAD_RECORD_MAC\n",
      "E0000 00:00:1756383108.688972  571153 secure_endpoint.cc:241] Decryption error: TSI_DATA_CORRUPTED\n"
     ]
    },
    {
     "data": {
      "text/plain": [
       "[0.021797677502036095,\n",
       " -0.04056418687105179,\n",
       " 0.040483083575963974,\n",
       " -0.06579891592264175,\n",
       " -0.0007126233540475368,\n",
       " -0.0051056514494121075,\n",
       " -0.07255402952432632,\n",
       " 0.02703327313065529,\n",
       " 0.016841666772961617,\n",
       " 0.02528001181781292,\n",
       " -0.05672534182667732,\n",
       " -0.015836423262953758,\n",
       " 0.10482825338840485,\n",
       " -0.005896067246794701,\n",
       " 0.0630577951669693,\n",
       " 0.045774318277835846,\n",
       " 0.024955863133072853,\n",
       " -0.01987946778535843,\n",
       " 0.008743026293814182,\n",
       " -0.09387481212615967,\n",
       " 0.0394282266497612,\n",
       " 0.043863698840141296,\n",
       " 0.00010509647836443037,\n",
       " 0.03501864895224571,\n",
       " 0.014838732779026031,\n",
       " 0.025629645213484764,\n",
       " 0.024890748783946037,\n",
       " 0.005843641702085733,\n",
       " 0.10756491869688034,\n",
       " -0.02570352889597416,\n",
       " 0.016698556020855904,\n",
       " 0.08862573653459549,\n",
       " 0.09288352727890015,\n",
       " 0.06739336252212524,\n",
       " 0.005536782089620829,\n",
       " 0.041433755308389664,\n",
       " -0.01801905781030655,\n",
       " -0.012199196964502335,\n",
       " -0.006123844534158707,\n",
       " -0.014138171449303627,\n",
       " -0.07930922508239746,\n",
       " 0.004129366017878056,\n",
       " 0.07268595695495605,\n",
       " -0.033493299037218094,\n",
       " 0.0929744765162468,\n",
       " -0.09791876375675201,\n",
       " -0.030354032292962074,\n",
       " -0.010640410706400871,\n",
       " -0.0902019739151001,\n",
       " -0.016231263056397438,\n",
       " -0.0555068738758564,\n",
       " -0.08769212663173676,\n",
       " 0.019362259656190872,\n",
       " -0.02201411873102188,\n",
       " -0.06985263526439667,\n",
       " -0.00018379521497990936,\n",
       " 0.07920041680335999,\n",
       " 0.016207575798034668,\n",
       " -0.04833105206489563,\n",
       " -0.06649184972047806,\n",
       " -0.05612786114215851,\n",
       " -0.05406657233834267,\n",
       " -0.08281663060188293,\n",
       " 0.05172868072986603,\n",
       " 0.03467630594968796,\n",
       " 0.07053384929895401,\n",
       " -0.06693684309720993,\n",
       " 0.13139019906520844,\n",
       " 0.013108473271131516,\n",
       " -0.033635374158620834,\n",
       " 0.0029235880356281996,\n",
       " -0.04367556422948837,\n",
       " 0.012569651938974857,\n",
       " 0.047682151198387146,\n",
       " 0.0287176463752985,\n",
       " -0.04086793214082718,\n",
       " -0.001356393564492464,\n",
       " 0.01976867765188217,\n",
       " 0.1105104386806488,\n",
       " 0.006915261037647724,\n",
       " -0.043595243245363235,\n",
       " -0.028127159923315048,\n",
       " -0.020618410781025887,\n",
       " -0.0013416425790637732,\n",
       " 0.025173958390951157,\n",
       " 0.04407540336251259,\n",
       " 0.025020712986588478,\n",
       " 0.02466684579849243,\n",
       " 0.019906602799892426,\n",
       " 0.033329930156469345,\n",
       " 0.029308540746569633,\n",
       " -0.11440441757440567,\n",
       " -0.04610290378332138,\n",
       " 0.07710683345794678,\n",
       " -0.013006574474275112,\n",
       " 0.04694567248225212,\n",
       " 0.0002716861490625888,\n",
       " -0.09825735539197922,\n",
       " 0.0008509354083798826,\n",
       " 0.05107472836971283,\n",
       " 0.021797195076942444,\n",
       " 0.03260714188218117,\n",
       " 0.11713304370641708,\n",
       " -0.10007321834564209,\n",
       " -0.07731623947620392,\n",
       " -0.07147128880023956,\n",
       " 0.013291483744978905,\n",
       " -0.006505605764687061,\n",
       " 0.038419827818870544,\n",
       " -0.09457524865865707,\n",
       " -0.0023649781942367554,\n",
       " 0.005091744940727949,\n",
       " 0.029063096269965172,\n",
       " 0.08111418038606644,\n",
       " 0.01728578843176365,\n",
       " -0.11562381684780121,\n",
       " 0.08696313202381134,\n",
       " -0.06066269427537918,\n",
       " 0.05365537479519844,\n",
       " -0.0351303294301033,\n",
       " 0.037997063249349594,\n",
       " 0.024398144334554672,\n",
       " -0.024611542001366615,\n",
       " -0.006984482519328594,\n",
       " 0.015205131843686104,\n",
       " -0.008776029571890831,\n",
       " -0.03450608626008034,\n",
       " -1.9013909488008437e-33,\n",
       " 0.06456919759511948,\n",
       " 0.0505034364759922,\n",
       " -0.04454808682203293,\n",
       " 0.14075016975402832,\n",
       " 0.09077858924865723,\n",
       " 0.0175769105553627,\n",
       " 0.07421316206455231,\n",
       " 0.07156237214803696,\n",
       " -1.7679047232377343e-05,\n",
       " -0.0009626446408219635,\n",
       " 0.008338762447237968,\n",
       " 0.03486677259206772,\n",
       " 0.01677849143743515,\n",
       " 0.0376598984003067,\n",
       " 0.024090750142931938,\n",
       " -0.03048378974199295,\n",
       " 0.006908667739480734,\n",
       " 0.0427115336060524,\n",
       " -0.04027672857046127,\n",
       " -0.048321694135665894,\n",
       " 0.0024442370049655437,\n",
       " -0.013909249566495419,\n",
       " 0.08280528336763382,\n",
       " -0.052125073969364166,\n",
       " 0.06692435592412949,\n",
       " 0.06018329784274101,\n",
       " 0.09218054264783859,\n",
       " -0.05821214243769646,\n",
       " -0.02748773992061615,\n",
       " 0.03180805966258049,\n",
       " -0.048871755599975586,\n",
       " -0.009028897620737553,\n",
       " -0.04302460700273514,\n",
       " 0.0030838355887681246,\n",
       " -0.005267126951366663,\n",
       " -0.0014262949116528034,\n",
       " -0.019841156899929047,\n",
       " -0.05708068609237671,\n",
       " 0.08999788016080856,\n",
       " -0.08212946355342865,\n",
       " 0.01287778839468956,\n",
       " 0.019878409802913666,\n",
       " 0.014860725961625576,\n",
       " 0.006118580233305693,\n",
       " -0.040601350367069244,\n",
       " 0.02810884639620781,\n",
       " 0.01206331979483366,\n",
       " -0.03201395645737648,\n",
       " 0.02355305664241314,\n",
       " -0.04697888344526291,\n",
       " 0.04664573818445206,\n",
       " -0.012471407651901245,\n",
       " -0.09156273305416107,\n",
       " 0.010966218076646328,\n",
       " 0.07808007299900055,\n",
       " 0.0381583496928215,\n",
       " 0.002606004709377885,\n",
       " 0.025910846889019012,\n",
       " -0.02452811785042286,\n",
       " 0.008707438595592976,\n",
       " -0.04893868416547775,\n",
       " 0.07714138180017471,\n",
       " 0.058359384536743164,\n",
       " 0.05600681155920029,\n",
       " 0.12223199009895325,\n",
       " -0.03857196494936943,\n",
       " -0.12879732251167297,\n",
       " -0.017229342833161354,\n",
       " 0.10353256016969681,\n",
       " -0.07117513567209244,\n",
       " -0.014889232814311981,\n",
       " -0.04460959509015083,\n",
       " -0.020823227241635323,\n",
       " -0.03392771631479263,\n",
       " -0.052235085517168045,\n",
       " -0.11826949566602707,\n",
       " 0.0034109754487872124,\n",
       " -0.032463058829307556,\n",
       " 0.06507705897092819,\n",
       " 0.030954694375395775,\n",
       " -0.0061296443454921246,\n",
       " -0.02254968136548996,\n",
       " -0.02279108390212059,\n",
       " -0.06770143657922745,\n",
       " 0.04349677264690399,\n",
       " -0.03089381381869316,\n",
       " 0.006517292000353336,\n",
       " -0.06151299551129341,\n",
       " -0.04842323437333107,\n",
       " 0.002112900372594595,\n",
       " -0.0020686034113168716,\n",
       " -0.029148271307349205,\n",
       " 0.047479819506406784,\n",
       " 0.07920410484075546,\n",
       " 0.0032191264908760786,\n",
       " -6.821407952323639e-34,\n",
       " -0.10842446237802505,\n",
       " 0.030073776841163635,\n",
       " -0.06267327815294266,\n",
       " 0.037386372685432434,\n",
       " 0.01078810915350914,\n",
       " -0.07591966539621353,\n",
       " -0.05960480123758316,\n",
       " 0.04580821469426155,\n",
       " -0.03723462298512459,\n",
       " -0.015847453847527504,\n",
       " -0.009084127843379974,\n",
       " -0.027369776740670204,\n",
       " 0.07708416134119034,\n",
       " 0.029483189806342125,\n",
       " 0.018218616023659706,\n",
       " -0.05813446640968323,\n",
       " 0.07049542665481567,\n",
       " -0.07052194327116013,\n",
       " 0.06887650489807129,\n",
       " 0.03410954773426056,\n",
       " -0.017005298286676407,\n",
       " 0.06056556850671768,\n",
       " -0.1447710543870926,\n",
       " -0.043222714215517044,\n",
       " -0.041501209139823914,\n",
       " -0.00570059847086668,\n",
       " -0.07904047518968582,\n",
       " -0.02079600840806961,\n",
       " 0.014175379648804665,\n",
       " 0.11735888570547104,\n",
       " -0.02816960960626602,\n",
       " -0.03714056313037872,\n",
       " -0.005221122410148382,\n",
       " 0.05447082221508026,\n",
       " -0.09400295466184616,\n",
       " 0.034911252558231354,\n",
       " 0.06059368699789047,\n",
       " 0.011603407561779022,\n",
       " 0.023479053750634193,\n",
       " 0.004246157128363848,\n",
       " 0.048893366008996964,\n",
       " -0.03823186457157135,\n",
       " -0.03108254075050354,\n",
       " -0.04442232847213745,\n",
       " 0.004860416520386934,\n",
       " -0.017783157527446747,\n",
       " -0.07036155462265015,\n",
       " -0.029201867058873177,\n",
       " 0.027119653299450874,\n",
       " -0.025288887321949005,\n",
       " 0.031054137274622917,\n",
       " -0.008597488515079021,\n",
       " 0.03255544975399971,\n",
       " -0.0688038021326065,\n",
       " -0.059506990015506744,\n",
       " -0.04477392137050629,\n",
       " -0.011832047253847122,\n",
       " -0.10435393452644348,\n",
       " -0.031024273484945297,\n",
       " -0.043674226850271225,\n",
       " -0.05925453081727028,\n",
       " -0.016263283789157867,\n",
       " 0.07324507087469101,\n",
       " -0.08108268678188324,\n",
       " -0.02197621390223503,\n",
       " -0.029042644426226616,\n",
       " -0.03481922671198845,\n",
       " 0.03162165358662605,\n",
       " -0.03222806379199028,\n",
       " -0.06397389620542526,\n",
       " 0.0601101815700531,\n",
       " 0.02279067598283291,\n",
       " -0.05545712262392044,\n",
       " 0.08324673771858215,\n",
       " 0.0007659749826416373,\n",
       " -0.01601194031536579,\n",
       " -0.032269176095724106,\n",
       " -0.026321670040488243,\n",
       " -0.021201608702540398,\n",
       " -0.08599825948476791,\n",
       " 0.0014032286126166582,\n",
       " 0.04931490495800972,\n",
       " -0.004270219709724188,\n",
       " 0.10186725109815598,\n",
       " 0.023575399070978165,\n",
       " 0.0035708604846149683,\n",
       " 0.03793095797300339,\n",
       " 0.06916376203298569,\n",
       " -0.0014448908623307943,\n",
       " 0.014646051451563835,\n",
       " 0.021841732785105705,\n",
       " 0.10220440477132797,\n",
       " 0.05610763281583786,\n",
       " 0.05319385603070259,\n",
       " -0.020105164498090744,\n",
       " -2.6118295082255827e-08,\n",
       " -0.09312163293361664,\n",
       " -0.03974536061286926,\n",
       " -0.04709916561841965,\n",
       " 0.021395929157733917,\n",
       " 0.007307545281946659,\n",
       " -0.07099776715040207,\n",
       " -0.01996713876724243,\n",
       " -0.028596263378858566,\n",
       " 0.002310890005901456,\n",
       " -0.010492770001292229,\n",
       " -0.01963263936340809,\n",
       " 0.03170416131615639,\n",
       " -0.07256070524454117,\n",
       " 0.05366690829396248,\n",
       " 0.055818259716033936,\n",
       " 0.002789731603115797,\n",
       " -0.0509767159819603,\n",
       " 0.024893537163734436,\n",
       " -0.07020975649356842,\n",
       " -0.05870258808135986,\n",
       " 0.07766856998205185,\n",
       " 0.015293021686375141,\n",
       " -0.02493610419332981,\n",
       " 0.06927888840436935,\n",
       " 0.08289027959108353,\n",
       " -0.002700642216950655,\n",
       " -0.05768679827451706,\n",
       " -0.0017911535687744617,\n",
       " -0.011763646267354488,\n",
       " 0.010713733732700348,\n",
       " -0.01956847496330738,\n",
       " 0.03223448991775513,\n",
       " -0.07520653307437897,\n",
       " 0.07300496846437454,\n",
       " 0.06461544334888458,\n",
       " 0.006543711759150028,\n",
       " 0.01018556673079729,\n",
       " -0.04696883261203766,\n",
       " 0.07010912150144577,\n",
       " -0.04302825778722763,\n",
       " 0.01762671209871769,\n",
       " 0.011478248052299023,\n",
       " -0.07945135980844498,\n",
       " 0.023569418117403984,\n",
       " 0.04612269997596741,\n",
       " 0.016502676531672478,\n",
       " -0.04179177060723305,\n",
       " -0.10975610464811325,\n",
       " -0.030922681093215942,\n",
       " 0.03905891627073288,\n",
       " -0.05334405228495598,\n",
       " -0.006087747402489185,\n",
       " -0.019661402329802513,\n",
       " -0.0029160156846046448,\n",
       " 0.012702394276857376,\n",
       " 0.07403470575809479,\n",
       " -0.01672171615064144,\n",
       " 0.03245401382446289,\n",
       " 0.002474273322150111,\n",
       " -0.03668506070971489,\n",
       " 0.05262612923979759,\n",
       " 0.0736551582813263,\n",
       " -0.015890372917056084,\n",
       " 0.010255740024149418]"
      ]
     },
     "execution_count": 23,
     "metadata": {},
     "output_type": "execute_result"
    }
   ],
   "source": [
    "!pip install sentence-transformers\n",
    "from langchain_community.embeddings.sentence_transformer import SentenceTransformerEmbeddings\n",
    "embeddings = SentenceTransformerEmbeddings(model_name=\"all-MiniLM-L6-v2\")\n",
    "document_embeddings = embeddings.embed_documents([split.page_content for split in splits])\n",
    "document_embeddings[0]"
   ]
  },
  {
   "cell_type": "markdown",
   "id": "893e8316",
   "metadata": {},
   "source": [
    "## Create and persist Chroma Vector store"
   ]
  },
  {
   "cell_type": "code",
   "execution_count": 24,
   "id": "a1768e74",
   "metadata": {},
   "outputs": [
    {
     "name": "stderr",
     "output_type": "stream",
     "text": [
      "huggingface/tokenizers: The current process just got forked, after parallelism has already been used. Disabling parallelism to avoid deadlocks...\n",
      "To disable this warning, you can either:\n",
      "\t- Avoid using `tokenizers` before the fork if possible\n",
      "\t- Explicitly set the environment variable TOKENIZERS_PARALLELISM=(true | false)\n"
     ]
    },
    {
     "name": "stdout",
     "output_type": "stream",
     "text": [
      "Requirement already satisfied: langchain-chroma in /opt/anaconda3/lib/python3.13/site-packages (0.2.5)\n",
      "Requirement already satisfied: langchain-core>=0.3.70 in /opt/anaconda3/lib/python3.13/site-packages (from langchain-chroma) (0.3.74)\n",
      "Requirement already satisfied: numpy>=2.1.0 in /opt/anaconda3/lib/python3.13/site-packages (from langchain-chroma) (2.1.3)\n",
      "Requirement already satisfied: chromadb>=1.0.9 in /opt/anaconda3/lib/python3.13/site-packages (from langchain-chroma) (1.0.16)\n",
      "Requirement already satisfied: build>=1.0.3 in /opt/anaconda3/lib/python3.13/site-packages (from chromadb>=1.0.9->langchain-chroma) (1.3.0)\n",
      "Requirement already satisfied: pydantic>=1.9 in /opt/anaconda3/lib/python3.13/site-packages (from chromadb>=1.0.9->langchain-chroma) (2.11.7)\n",
      "Requirement already satisfied: pybase64>=1.4.1 in /opt/anaconda3/lib/python3.13/site-packages (from chromadb>=1.0.9->langchain-chroma) (1.4.2)\n",
      "Requirement already satisfied: uvicorn>=0.18.3 in /opt/anaconda3/lib/python3.13/site-packages (from uvicorn[standard]>=0.18.3->chromadb>=1.0.9->langchain-chroma) (0.35.0)\n",
      "Requirement already satisfied: posthog<6.0.0,>=2.4.0 in /opt/anaconda3/lib/python3.13/site-packages (from chromadb>=1.0.9->langchain-chroma) (5.4.0)\n",
      "Requirement already satisfied: typing-extensions>=4.5.0 in /opt/anaconda3/lib/python3.13/site-packages (from chromadb>=1.0.9->langchain-chroma) (4.12.2)\n",
      "Requirement already satisfied: onnxruntime>=1.14.1 in /opt/anaconda3/lib/python3.13/site-packages (from chromadb>=1.0.9->langchain-chroma) (1.22.1)\n",
      "Requirement already satisfied: opentelemetry-api>=1.2.0 in /opt/anaconda3/lib/python3.13/site-packages (from chromadb>=1.0.9->langchain-chroma) (1.36.0)\n",
      "Requirement already satisfied: opentelemetry-exporter-otlp-proto-grpc>=1.2.0 in /opt/anaconda3/lib/python3.13/site-packages (from chromadb>=1.0.9->langchain-chroma) (1.36.0)\n",
      "Requirement already satisfied: opentelemetry-sdk>=1.2.0 in /opt/anaconda3/lib/python3.13/site-packages (from chromadb>=1.0.9->langchain-chroma) (1.36.0)\n",
      "Requirement already satisfied: tokenizers>=0.13.2 in /opt/anaconda3/lib/python3.13/site-packages (from chromadb>=1.0.9->langchain-chroma) (0.21.4)\n",
      "Requirement already satisfied: pypika>=0.48.9 in /opt/anaconda3/lib/python3.13/site-packages (from chromadb>=1.0.9->langchain-chroma) (0.48.9)\n",
      "Requirement already satisfied: tqdm>=4.65.0 in /opt/anaconda3/lib/python3.13/site-packages (from chromadb>=1.0.9->langchain-chroma) (4.67.1)\n",
      "Requirement already satisfied: overrides>=7.3.1 in /opt/anaconda3/lib/python3.13/site-packages (from chromadb>=1.0.9->langchain-chroma) (7.4.0)\n",
      "Requirement already satisfied: importlib-resources in /opt/anaconda3/lib/python3.13/site-packages (from chromadb>=1.0.9->langchain-chroma) (6.5.2)\n",
      "Requirement already satisfied: grpcio>=1.58.0 in /opt/anaconda3/lib/python3.13/site-packages (from chromadb>=1.0.9->langchain-chroma) (1.74.0)\n",
      "Requirement already satisfied: bcrypt>=4.0.1 in /opt/anaconda3/lib/python3.13/site-packages (from chromadb>=1.0.9->langchain-chroma) (4.3.0)\n",
      "Requirement already satisfied: typer>=0.9.0 in /opt/anaconda3/lib/python3.13/site-packages (from chromadb>=1.0.9->langchain-chroma) (0.9.0)\n",
      "Requirement already satisfied: kubernetes>=28.1.0 in /opt/anaconda3/lib/python3.13/site-packages (from chromadb>=1.0.9->langchain-chroma) (33.1.0)\n",
      "Requirement already satisfied: tenacity>=8.2.3 in /opt/anaconda3/lib/python3.13/site-packages (from chromadb>=1.0.9->langchain-chroma) (9.0.0)\n",
      "Requirement already satisfied: pyyaml>=6.0.0 in /opt/anaconda3/lib/python3.13/site-packages (from chromadb>=1.0.9->langchain-chroma) (6.0.2)\n",
      "Requirement already satisfied: mmh3>=4.0.1 in /opt/anaconda3/lib/python3.13/site-packages (from chromadb>=1.0.9->langchain-chroma) (5.2.0)\n",
      "Requirement already satisfied: orjson>=3.9.12 in /opt/anaconda3/lib/python3.13/site-packages (from chromadb>=1.0.9->langchain-chroma) (3.11.1)\n",
      "Requirement already satisfied: httpx>=0.27.0 in /opt/anaconda3/lib/python3.13/site-packages (from chromadb>=1.0.9->langchain-chroma) (0.28.1)\n",
      "Requirement already satisfied: rich>=10.11.0 in /opt/anaconda3/lib/python3.13/site-packages (from chromadb>=1.0.9->langchain-chroma) (13.9.4)\n",
      "Requirement already satisfied: jsonschema>=4.19.0 in /opt/anaconda3/lib/python3.13/site-packages (from chromadb>=1.0.9->langchain-chroma) (4.23.0)\n",
      "Requirement already satisfied: requests<3.0,>=2.7 in /opt/anaconda3/lib/python3.13/site-packages (from posthog<6.0.0,>=2.4.0->chromadb>=1.0.9->langchain-chroma) (2.32.3)\n",
      "Requirement already satisfied: six>=1.5 in /opt/anaconda3/lib/python3.13/site-packages (from posthog<6.0.0,>=2.4.0->chromadb>=1.0.9->langchain-chroma) (1.17.0)\n",
      "Requirement already satisfied: python-dateutil>=2.2 in /opt/anaconda3/lib/python3.13/site-packages (from posthog<6.0.0,>=2.4.0->chromadb>=1.0.9->langchain-chroma) (2.9.0.post0)\n",
      "Requirement already satisfied: backoff>=1.10.0 in /opt/anaconda3/lib/python3.13/site-packages (from posthog<6.0.0,>=2.4.0->chromadb>=1.0.9->langchain-chroma) (2.2.1)\n",
      "Requirement already satisfied: distro>=1.5.0 in /opt/anaconda3/lib/python3.13/site-packages (from posthog<6.0.0,>=2.4.0->chromadb>=1.0.9->langchain-chroma) (1.9.0)\n",
      "Requirement already satisfied: charset-normalizer<4,>=2 in /opt/anaconda3/lib/python3.13/site-packages (from requests<3.0,>=2.7->posthog<6.0.0,>=2.4.0->chromadb>=1.0.9->langchain-chroma) (3.3.2)\n",
      "Requirement already satisfied: idna<4,>=2.5 in /opt/anaconda3/lib/python3.13/site-packages (from requests<3.0,>=2.7->posthog<6.0.0,>=2.4.0->chromadb>=1.0.9->langchain-chroma) (3.7)\n",
      "Requirement already satisfied: urllib3<3,>=1.21.1 in /opt/anaconda3/lib/python3.13/site-packages (from requests<3.0,>=2.7->posthog<6.0.0,>=2.4.0->chromadb>=1.0.9->langchain-chroma) (2.3.0)\n",
      "Requirement already satisfied: certifi>=2017.4.17 in /opt/anaconda3/lib/python3.13/site-packages (from requests<3.0,>=2.7->posthog<6.0.0,>=2.4.0->chromadb>=1.0.9->langchain-chroma) (2025.8.3)\n",
      "Requirement already satisfied: packaging>=19.1 in /opt/anaconda3/lib/python3.13/site-packages (from build>=1.0.3->chromadb>=1.0.9->langchain-chroma) (24.2)\n",
      "Requirement already satisfied: pyproject_hooks in /opt/anaconda3/lib/python3.13/site-packages (from build>=1.0.3->chromadb>=1.0.9->langchain-chroma) (1.2.0)\n",
      "Requirement already satisfied: anyio in /opt/anaconda3/lib/python3.13/site-packages (from httpx>=0.27.0->chromadb>=1.0.9->langchain-chroma) (4.10.0)\n",
      "Requirement already satisfied: httpcore==1.* in /opt/anaconda3/lib/python3.13/site-packages (from httpx>=0.27.0->chromadb>=1.0.9->langchain-chroma) (1.0.9)\n",
      "Requirement already satisfied: h11>=0.16 in /opt/anaconda3/lib/python3.13/site-packages (from httpcore==1.*->httpx>=0.27.0->chromadb>=1.0.9->langchain-chroma) (0.16.0)\n",
      "Requirement already satisfied: attrs>=22.2.0 in /opt/anaconda3/lib/python3.13/site-packages (from jsonschema>=4.19.0->chromadb>=1.0.9->langchain-chroma) (24.3.0)\n",
      "Requirement already satisfied: jsonschema-specifications>=2023.03.6 in /opt/anaconda3/lib/python3.13/site-packages (from jsonschema>=4.19.0->chromadb>=1.0.9->langchain-chroma) (2023.7.1)\n",
      "Requirement already satisfied: referencing>=0.28.4 in /opt/anaconda3/lib/python3.13/site-packages (from jsonschema>=4.19.0->chromadb>=1.0.9->langchain-chroma) (0.30.2)\n",
      "Requirement already satisfied: rpds-py>=0.7.1 in /opt/anaconda3/lib/python3.13/site-packages (from jsonschema>=4.19.0->chromadb>=1.0.9->langchain-chroma) (0.22.3)\n",
      "Requirement already satisfied: google-auth>=1.0.1 in /opt/anaconda3/lib/python3.13/site-packages (from kubernetes>=28.1.0->chromadb>=1.0.9->langchain-chroma) (2.40.3)\n",
      "Requirement already satisfied: websocket-client!=0.40.0,!=0.41.*,!=0.42.*,>=0.32.0 in /opt/anaconda3/lib/python3.13/site-packages (from kubernetes>=28.1.0->chromadb>=1.0.9->langchain-chroma) (1.8.0)\n",
      "Requirement already satisfied: requests-oauthlib in /opt/anaconda3/lib/python3.13/site-packages (from kubernetes>=28.1.0->chromadb>=1.0.9->langchain-chroma) (2.0.0)\n",
      "Requirement already satisfied: oauthlib>=3.2.2 in /opt/anaconda3/lib/python3.13/site-packages (from kubernetes>=28.1.0->chromadb>=1.0.9->langchain-chroma) (3.3.1)\n",
      "Requirement already satisfied: durationpy>=0.7 in /opt/anaconda3/lib/python3.13/site-packages (from kubernetes>=28.1.0->chromadb>=1.0.9->langchain-chroma) (0.10)\n",
      "Requirement already satisfied: cachetools<6.0,>=2.0.0 in /opt/anaconda3/lib/python3.13/site-packages (from google-auth>=1.0.1->kubernetes>=28.1.0->chromadb>=1.0.9->langchain-chroma) (5.5.1)\n",
      "Requirement already satisfied: pyasn1-modules>=0.2.1 in /opt/anaconda3/lib/python3.13/site-packages (from google-auth>=1.0.1->kubernetes>=28.1.0->chromadb>=1.0.9->langchain-chroma) (0.2.8)\n",
      "Requirement already satisfied: rsa<5,>=3.1.4 in /opt/anaconda3/lib/python3.13/site-packages (from google-auth>=1.0.1->kubernetes>=28.1.0->chromadb>=1.0.9->langchain-chroma) (4.9.1)\n",
      "Requirement already satisfied: pyasn1>=0.1.3 in /opt/anaconda3/lib/python3.13/site-packages (from rsa<5,>=3.1.4->google-auth>=1.0.1->kubernetes>=28.1.0->chromadb>=1.0.9->langchain-chroma) (0.4.8)\n",
      "Requirement already satisfied: langsmith>=0.3.45 in /opt/anaconda3/lib/python3.13/site-packages (from langchain-core>=0.3.70->langchain-chroma) (0.4.13)\n",
      "Requirement already satisfied: jsonpatch<2.0,>=1.33 in /opt/anaconda3/lib/python3.13/site-packages (from langchain-core>=0.3.70->langchain-chroma) (1.33)\n",
      "Requirement already satisfied: jsonpointer>=1.9 in /opt/anaconda3/lib/python3.13/site-packages (from jsonpatch<2.0,>=1.33->langchain-core>=0.3.70->langchain-chroma) (2.1)\n",
      "Requirement already satisfied: requests-toolbelt>=1.0.0 in /opt/anaconda3/lib/python3.13/site-packages (from langsmith>=0.3.45->langchain-core>=0.3.70->langchain-chroma) (1.0.0)\n",
      "Requirement already satisfied: zstandard>=0.23.0 in /opt/anaconda3/lib/python3.13/site-packages (from langsmith>=0.3.45->langchain-core>=0.3.70->langchain-chroma) (0.23.0)\n",
      "Requirement already satisfied: annotated-types>=0.6.0 in /opt/anaconda3/lib/python3.13/site-packages (from pydantic>=1.9->chromadb>=1.0.9->langchain-chroma) (0.6.0)\n",
      "Requirement already satisfied: pydantic-core==2.33.2 in /opt/anaconda3/lib/python3.13/site-packages (from pydantic>=1.9->chromadb>=1.0.9->langchain-chroma) (2.33.2)\n",
      "Requirement already satisfied: typing-inspection>=0.4.0 in /opt/anaconda3/lib/python3.13/site-packages (from pydantic>=1.9->chromadb>=1.0.9->langchain-chroma) (0.4.1)\n",
      "Requirement already satisfied: coloredlogs in /opt/anaconda3/lib/python3.13/site-packages (from onnxruntime>=1.14.1->chromadb>=1.0.9->langchain-chroma) (15.0.1)\n",
      "Requirement already satisfied: flatbuffers in /opt/anaconda3/lib/python3.13/site-packages (from onnxruntime>=1.14.1->chromadb>=1.0.9->langchain-chroma) (25.2.10)\n",
      "Requirement already satisfied: protobuf in /opt/anaconda3/lib/python3.13/site-packages (from onnxruntime>=1.14.1->chromadb>=1.0.9->langchain-chroma) (5.29.3)\n",
      "Requirement already satisfied: sympy in /opt/anaconda3/lib/python3.13/site-packages (from onnxruntime>=1.14.1->chromadb>=1.0.9->langchain-chroma) (1.13.3)\n",
      "Requirement already satisfied: importlib-metadata<8.8.0,>=6.0 in /opt/anaconda3/lib/python3.13/site-packages (from opentelemetry-api>=1.2.0->chromadb>=1.0.9->langchain-chroma) (8.5.0)\n",
      "Requirement already satisfied: zipp>=3.20 in /opt/anaconda3/lib/python3.13/site-packages (from importlib-metadata<8.8.0,>=6.0->opentelemetry-api>=1.2.0->chromadb>=1.0.9->langchain-chroma) (3.21.0)\n",
      "Requirement already satisfied: googleapis-common-protos~=1.57 in /opt/anaconda3/lib/python3.13/site-packages (from opentelemetry-exporter-otlp-proto-grpc>=1.2.0->chromadb>=1.0.9->langchain-chroma) (1.70.0)\n",
      "Requirement already satisfied: opentelemetry-exporter-otlp-proto-common==1.36.0 in /opt/anaconda3/lib/python3.13/site-packages (from opentelemetry-exporter-otlp-proto-grpc>=1.2.0->chromadb>=1.0.9->langchain-chroma) (1.36.0)\n",
      "Requirement already satisfied: opentelemetry-proto==1.36.0 in /opt/anaconda3/lib/python3.13/site-packages (from opentelemetry-exporter-otlp-proto-grpc>=1.2.0->chromadb>=1.0.9->langchain-chroma) (1.36.0)\n",
      "Requirement already satisfied: opentelemetry-semantic-conventions==0.57b0 in /opt/anaconda3/lib/python3.13/site-packages (from opentelemetry-sdk>=1.2.0->chromadb>=1.0.9->langchain-chroma) (0.57b0)\n",
      "Requirement already satisfied: markdown-it-py>=2.2.0 in /opt/anaconda3/lib/python3.13/site-packages (from rich>=10.11.0->chromadb>=1.0.9->langchain-chroma) (2.2.0)\n",
      "Requirement already satisfied: pygments<3.0.0,>=2.13.0 in /opt/anaconda3/lib/python3.13/site-packages (from rich>=10.11.0->chromadb>=1.0.9->langchain-chroma) (2.19.1)\n",
      "Requirement already satisfied: mdurl~=0.1 in /opt/anaconda3/lib/python3.13/site-packages (from markdown-it-py>=2.2.0->rich>=10.11.0->chromadb>=1.0.9->langchain-chroma) (0.1.0)\n",
      "Requirement already satisfied: huggingface-hub<1.0,>=0.16.4 in /opt/anaconda3/lib/python3.13/site-packages (from tokenizers>=0.13.2->chromadb>=1.0.9->langchain-chroma) (0.34.4)\n",
      "Requirement already satisfied: filelock in /opt/anaconda3/lib/python3.13/site-packages (from huggingface-hub<1.0,>=0.16.4->tokenizers>=0.13.2->chromadb>=1.0.9->langchain-chroma) (3.17.0)\n",
      "Requirement already satisfied: fsspec>=2023.5.0 in /opt/anaconda3/lib/python3.13/site-packages (from huggingface-hub<1.0,>=0.16.4->tokenizers>=0.13.2->chromadb>=1.0.9->langchain-chroma) (2025.3.0)\n",
      "Requirement already satisfied: hf-xet<2.0.0,>=1.1.3 in /opt/anaconda3/lib/python3.13/site-packages (from huggingface-hub<1.0,>=0.16.4->tokenizers>=0.13.2->chromadb>=1.0.9->langchain-chroma) (1.1.7)\n",
      "Requirement already satisfied: click<9.0.0,>=7.1.1 in /opt/anaconda3/lib/python3.13/site-packages (from typer>=0.9.0->chromadb>=1.0.9->langchain-chroma) (8.1.8)\n",
      "Requirement already satisfied: httptools>=0.6.3 in /opt/anaconda3/lib/python3.13/site-packages (from uvicorn[standard]>=0.18.3->chromadb>=1.0.9->langchain-chroma) (0.6.4)\n",
      "Requirement already satisfied: python-dotenv>=0.13 in /opt/anaconda3/lib/python3.13/site-packages (from uvicorn[standard]>=0.18.3->chromadb>=1.0.9->langchain-chroma) (1.1.0)\n",
      "Requirement already satisfied: uvloop>=0.15.1 in /opt/anaconda3/lib/python3.13/site-packages (from uvicorn[standard]>=0.18.3->chromadb>=1.0.9->langchain-chroma) (0.21.0)\n",
      "Requirement already satisfied: watchfiles>=0.13 in /opt/anaconda3/lib/python3.13/site-packages (from uvicorn[standard]>=0.18.3->chromadb>=1.0.9->langchain-chroma) (1.1.0)\n",
      "Requirement already satisfied: websockets>=10.4 in /opt/anaconda3/lib/python3.13/site-packages (from uvicorn[standard]>=0.18.3->chromadb>=1.0.9->langchain-chroma) (15.0.1)\n",
      "Requirement already satisfied: sniffio>=1.1 in /opt/anaconda3/lib/python3.13/site-packages (from anyio->httpx>=0.27.0->chromadb>=1.0.9->langchain-chroma) (1.3.0)\n",
      "Requirement already satisfied: humanfriendly>=9.1 in /opt/anaconda3/lib/python3.13/site-packages (from coloredlogs->onnxruntime>=1.14.1->chromadb>=1.0.9->langchain-chroma) (10.0)\n",
      "Requirement already satisfied: mpmath<1.4,>=1.1.0 in /opt/anaconda3/lib/python3.13/site-packages (from sympy->onnxruntime>=1.14.1->chromadb>=1.0.9->langchain-chroma) (1.3.0)\n"
     ]
    }
   ],
   "source": [
    "!pip install -U langchain-chroma"
   ]
  },
  {
   "cell_type": "code",
   "execution_count": 25,
   "id": "db9e1ae1",
   "metadata": {},
   "outputs": [
    {
     "name": "stdout",
     "output_type": "stream",
     "text": [
      "Vector store created and persisted to './chroma_db'\n"
     ]
    }
   ],
   "source": [
    "from langchain_chroma import Chroma\n",
    "from langchain_google_genai import GoogleGenerativeAIEmbeddings\n",
    "\n",
    "# Initialize embedding function\n",
    "embedding_function = GoogleGenerativeAIEmbeddings(model=\"models/embedding-001\")\n",
    "collection_name = \"my_collection\"\n",
    "\n",
    "# Correct parameter name is 'embedding', not 'embedding_function'\n",
    "vectorstore = Chroma.from_documents(\n",
    "    documents=splits,\n",
    "    embedding=embedding_function,\n",
    "    collection_name=collection_name\n",
    ")\n",
    "\n",
    "print(\"Vector store created and persisted to './chroma_db'\")"
   ]
  },
  {
   "cell_type": "markdown",
   "id": "d8a3cb3c",
   "metadata": {},
   "source": [
    "Semantic search"
   ]
  },
  {
   "cell_type": "code",
   "execution_count": 26,
   "id": "ad48e2a4",
   "metadata": {},
   "outputs": [
    {
     "name": "stdout",
     "output_type": "stream",
     "text": [
      "\n",
      "Top 2 most relevent chunks for the Queary:'What are llms?'\n",
      "\n",
      "result1:\n",
      "Source: //Users/manog/Ds_AI/Project/RAG_Langsmit_FastApi/data/prompt-engineering-for-llms-the-art-and-science-of-building-large-language-modelbased-applications-9781098156152.pdf\n",
      "Content: Prompt\tEngineering\tfor\tLLMs\n",
      "The\tArt\tand\tScience\tof\tBuilding\tLarge\tLanguage\tModel–\n",
      "Based\tApplications\n",
      "John\tBerryman\tand\tAlbert\tZiegler\n",
      "\n",
      "result2:\n",
      "Source: //Users/manog/Ds_AI/Project/RAG_Langsmit_FastApi/data/prompt-engineering-for-llms-the-art-and-science-of-building-large-language-modelbased-applications-9781098156152.pdf\n",
      "Content: LLMs.\n",
      "Prompt\tengineering\n",
      "\tcomes\tin\tseveral\tlevels\tof\tsophistication.\tThe\tmost\tbasic\n",
      "form\tmakes\tuse\tof\tonly\ta\tvery\tthin\tapplication\tlayer.\tFor\tinstance,\twhen\tyou\n",
      "engage\twith\tChatGPT,\tyou’re\tcrafting\ta\tprompt\talmost\tdirectly;\tthe\tapplication\n",
      "\n"
     ]
    }
   ],
   "source": [
    "# 5.perform similarity search\n",
    "query = \"What are llms?\"\n",
    "search_results = vectorstore.similarity_search(query, k=2)\n",
    "\n",
    "print(f\"\\nTop 2 most relevent chunks for the Queary:'{query}'\\n\")\n",
    "for i,result in enumerate(search_results,1):\n",
    "    print(f\"result{i}:\")\n",
    "    print(f'Source: {result.metadata.get(\"source\", \"unknown\")}')\n",
    "    print(f\"Content: {result.page_content}\")\n",
    "    print()"
   ]
  },
  {
   "cell_type": "code",
   "execution_count": 27,
   "id": "f76c4796",
   "metadata": {},
   "outputs": [
    {
     "data": {
      "text/plain": [
       "[Document(id='116aadcb-ec67-462b-bee7-5828d3020fd4', metadata={'page_label': '2', 'title': 'Prompt Engineering for LLMs', 'page': 1, 'total_pages': 359, 'author': 'John Berryman', 'producer': 'calibre 3.32.0 [https://calibre-ebook.com]', 'creationdate': '2025-08-17T04:15:15+00:00', 'source': '//Users/manog/Ds_AI/Project/RAG_Langsmit_FastApi/data/prompt-engineering-for-llms-the-art-and-science-of-building-large-language-modelbased-applications-9781098156152.pdf', 'creator': 'calibre 3.32.0 [https://calibre-ebook.com]'}, page_content='Prompt\\tEngineering\\tfor\\tLLMs\\nThe\\tArt\\tand\\tScience\\tof\\tBuilding\\tLarge\\tLanguage\\tModel–\\nBased\\tApplications\\nJohn\\tBerryman\\tand\\tAlbert\\tZiegler'),\n",
       " Document(id='cf5df07c-6a54-49c5-9dcb-f563c49bf49b', metadata={'page_label': '26', 'source': '//Users/manog/Ds_AI/Project/RAG_Langsmit_FastApi/data/prompt-engineering-for-llms-the-art-and-science-of-building-large-language-modelbased-applications-9781098156152.pdf', 'page': 25, 'producer': 'calibre 3.32.0 [https://calibre-ebook.com]', 'author': 'John Berryman', 'creationdate': '2025-08-17T04:15:15+00:00', 'title': 'Prompt Engineering for LLMs', 'total_pages': 359, 'creator': 'calibre 3.32.0 [https://calibre-ebook.com]'}, page_content='LLMs.\\nPrompt\\tengineering\\n\\tcomes\\tin\\tseveral\\tlevels\\tof\\tsophistication.\\tThe\\tmost\\tbasic\\nform\\tmakes\\tuse\\tof\\tonly\\ta\\tvery\\tthin\\tapplication\\tlayer.\\tFor\\tinstance,\\twhen\\tyou\\nengage\\twith\\tChatGPT,\\tyou’re\\tcrafting\\ta\\tprompt\\talmost\\tdirectly;\\tthe\\tapplication')]"
      ]
     },
     "execution_count": 27,
     "metadata": {},
     "output_type": "execute_result"
    }
   ],
   "source": [
    "retriever = vectorstore.as_retriever(search_kwargs={\"k\":2})\n",
    "retriever.invoke(\"What are llms? \")\n"
   ]
  },
  {
   "cell_type": "code",
   "execution_count": 28,
   "id": "57871d40",
   "metadata": {},
   "outputs": [],
   "source": [
    "from langchain_core.prompts import ChatPromptTemplate\n",
    "template =\"\"\" Answer the question based only on the following context :\n",
    "{context}\n",
    "Question: {question}\n",
    "Answer: \"\"\"\n",
    "prompt = ChatPromptTemplate.from_template(template)"
   ]
  },
  {
   "cell_type": "code",
   "execution_count": 29,
   "id": "83e0f159",
   "metadata": {},
   "outputs": [
    {
     "data": {
      "text/plain": [
       "ChatPromptValue(messages=[HumanMessage(content=\" Answer the question based only on the following context :\\n[Document(id='116aadcb-ec67-462b-bee7-5828d3020fd4', metadata={'author': 'John Berryman', 'total_pages': 359, 'page_label': '2', 'page': 1, 'title': 'Prompt Engineering for LLMs', 'creator': 'calibre 3.32.0 [https://calibre-ebook.com]', 'source': '//Users/manog/Ds_AI/Project/RAG_Langsmit_FastApi/data/prompt-engineering-for-llms-the-art-and-science-of-building-large-language-modelbased-applications-9781098156152.pdf', 'producer': 'calibre 3.32.0 [https://calibre-ebook.com]', 'creationdate': '2025-08-17T04:15:15+00:00'}, page_content='Prompt\\\\tEngineering\\\\tfor\\\\tLLMs\\\\nThe\\\\tArt\\\\tand\\\\tScience\\\\tof\\\\tBuilding\\\\tLarge\\\\tLanguage\\\\tModel–\\\\nBased\\\\tApplications\\\\nJohn\\\\tBerryman\\\\tand\\\\tAlbert\\\\tZiegler'), Document(id='cf5df07c-6a54-49c5-9dcb-f563c49bf49b', metadata={'total_pages': 359, 'page': 25, 'title': 'Prompt Engineering for LLMs', 'author': 'John Berryman', 'source': '//Users/manog/Ds_AI/Project/RAG_Langsmit_FastApi/data/prompt-engineering-for-llms-the-art-and-science-of-building-large-language-modelbased-applications-9781098156152.pdf', 'producer': 'calibre 3.32.0 [https://calibre-ebook.com]', 'page_label': '26', 'creator': 'calibre 3.32.0 [https://calibre-ebook.com]', 'creationdate': '2025-08-17T04:15:15+00:00'}, page_content='LLMs.\\\\nPrompt\\\\tengineering\\\\n\\\\tcomes\\\\tin\\\\tseveral\\\\tlevels\\\\tof\\\\tsophistication.\\\\tThe\\\\tmost\\\\tbasic\\\\nform\\\\tmakes\\\\tuse\\\\tof\\\\tonly\\\\ta\\\\tvery\\\\tthin\\\\tapplication\\\\tlayer.\\\\tFor\\\\tinstance,\\\\twhen\\\\tyou\\\\nengage\\\\twith\\\\tChatGPT,\\\\tyou’re\\\\tcrafting\\\\ta\\\\tprompt\\\\talmost\\\\tdirectly;\\\\tthe\\\\tapplication')]\\nQuestion: What are llms? \\nAnswer: \", additional_kwargs={}, response_metadata={})])"
      ]
     },
     "execution_count": 29,
     "metadata": {},
     "output_type": "execute_result"
    }
   ],
   "source": [
    "from langchain.schema.runnable import RunnablePassthrough\n",
    "rag_chain =(\n",
    "    {\"context\":retriever, \"question\":RunnablePassthrough()} | prompt\n",
    ")\n",
    "rag_chain.invoke(\"What are llms? \")"
   ]
  },
  {
   "cell_type": "code",
   "execution_count": 30,
   "id": "ccdcd8f3",
   "metadata": {},
   "outputs": [],
   "source": [
    "def docs2str(docs):\n",
    "    return \"\\n\\n\".join([doc.page_content for doc in docs])"
   ]
  },
  {
   "cell_type": "code",
   "execution_count": 31,
   "id": "53168aa5",
   "metadata": {},
   "outputs": [
    {
     "data": {
      "text/plain": [
       "ChatPromptValue(messages=[HumanMessage(content=' Answer the question based only on the following context :\\nPrompt\\tEngineering\\tfor\\tLLMs\\nThe\\tArt\\tand\\tScience\\tof\\tBuilding\\tLarge\\tLanguage\\tModel–\\nBased\\tApplications\\nJohn\\tBerryman\\tand\\tAlbert\\tZiegler\\n\\nLLMs.\\nPrompt\\tengineering\\n\\tcomes\\tin\\tseveral\\tlevels\\tof\\tsophistication.\\tThe\\tmost\\tbasic\\nform\\tmakes\\tuse\\tof\\tonly\\ta\\tvery\\tthin\\tapplication\\tlayer.\\tFor\\tinstance,\\twhen\\tyou\\nengage\\twith\\tChatGPT,\\tyou’re\\tcrafting\\ta\\tprompt\\talmost\\tdirectly;\\tthe\\tapplication\\nQuestion: What are llms? \\nAnswer: ', additional_kwargs={}, response_metadata={})])"
      ]
     },
     "execution_count": 31,
     "metadata": {},
     "output_type": "execute_result"
    }
   ],
   "source": [
    "rag_chain =(\n",
    "    {\"context\": retriever | docs2str,\"question\":RunnablePassthrough()}| prompt\n",
    ")\n",
    "rag_chain.invoke(\"What are llms? \")"
   ]
  },
  {
   "cell_type": "code",
   "execution_count": 32,
   "id": "525f02c2",
   "metadata": {},
   "outputs": [
    {
     "name": "stdout",
     "output_type": "stream",
     "text": [
      "I am sorry, but the provided context does not contain information about \"counting tokens.\" It mentions \"token\" in the context of an LLM computing probabilities for all possible tokens before choosing one through a process called sampling.\n"
     ]
    }
   ],
   "source": [
    "rag_chain =(\n",
    "    {\"context\":retriever, \"question\":RunnablePassthrough()} \n",
    "    | prompt\n",
    "    | llm\n",
    "    | StrOutputParser()\n",
    ")\n",
    "question = \"what is counting tokens?\"\n",
    "response =rag_chain.invoke(question)\n",
    "print(response)"
   ]
  },
  {
   "cell_type": "markdown",
   "id": "52363303",
   "metadata": {},
   "source": [
    "## Conversational RAG"
   ]
  },
  {
   "cell_type": "code",
   "execution_count": 33,
   "id": "b81528a0",
   "metadata": {},
   "outputs": [],
   "source": [
    "from langsmith import traceable\n",
    "from langchain_core.messages import HumanMessage, AIMessage\n",
    "chat_history = []\n",
    "chat_history.extend([\n",
    "    HumanMessage(content=question),\n",
    "    AIMessage(content=response)\n",
    "])\n"
   ]
  },
  {
   "cell_type": "code",
   "execution_count": 34,
   "id": "9e0d34b7",
   "metadata": {},
   "outputs": [
    {
     "data": {
      "text/plain": [
       "[HumanMessage(content='what is counting tokens?', additional_kwargs={}, response_metadata={}),\n",
       " AIMessage(content='I am sorry, but the provided context does not contain information about \"counting tokens.\" It mentions \"token\" in the context of an LLM computing probabilities for all possible tokens before choosing one through a process called sampling.', additional_kwargs={}, response_metadata={})]"
      ]
     },
     "execution_count": 34,
     "metadata": {},
     "output_type": "execute_result"
    }
   ],
   "source": [
    "chat_history"
   ]
  },
  {
   "cell_type": "code",
   "execution_count": 35,
   "id": "6d56a948",
   "metadata": {},
   "outputs": [
    {
     "data": {
      "text/plain": [
       "'What is the cost associated with using Large Language Models (LLMs), often measured by tokens?'"
      ]
     },
     "execution_count": 35,
     "metadata": {},
     "output_type": "execute_result"
    }
   ],
   "source": [
    "from langchain_core.prompts import MessagesPlaceholder\n",
    "contextualize_q_system_prompt =(\n",
    "    \"Given a chat history and the latest user question \"\n",
    "\"which might reference context in the chat history, \"\n",
    "\"formulate a standalone question which can be understood \"\n",
    "\"without the chat history. Do NOT answer the question, \"\n",
    "\"just reformulate it if needed and otherwise return it as is.\"\n",
    ")\n",
    "contextualize_q_system_prompt=ChatPromptTemplate.from_messages(\n",
    "    [\n",
    "        (\"system\", contextualize_q_system_prompt),\n",
    "        MessagesPlaceholder(variable_name=\"chat_history\"),\n",
    "        (\"human\",\"{input}\"),\n",
    "    ]\n",
    ")\n",
    "#history_aware_retriver = create history_aware_retrever(\n",
    "#llm retriver,contextualize_q_system_prompt\n",
    "#)\n",
    "contextualize_chain =contextualize_q_system_prompt| llm | StrOutputParser()\n",
    "contextualize_chain.invoke({\"input\": \"what is the cost?\", \"chat_history\": chat_history})\n"
   ]
  },
  {
   "cell_type": "code",
   "execution_count": 36,
   "id": "5e90615d",
   "metadata": {},
   "outputs": [
    {
     "data": {
      "text/plain": [
       "[Document(id='afba4bb8-16f1-4754-ba7e-7bed22d903ca', metadata={'page': 48, 'author': 'John Berryman', 'page_label': '49', 'title': 'Prompt Engineering for LLMs', 'producer': 'calibre 3.32.0 [https://calibre-ebook.com]', 'creationdate': '2025-08-17T04:15:15+00:00', 'source': '//Users/manog/Ds_AI/Project/RAG_Langsmit_FastApi/data/prompt-engineering-for-llms-the-art-and-science-of-building-large-language-modelbased-applications-9781098156152.pdf', 'total_pages': 359, 'creator': 'calibre 3.32.0 [https://calibre-ebook.com]'}, page_content='token.\\tBut\\tif\\tyou\\tpeel\\tback\\tone\\tmore\\tlayer\\tof\\tthe\\tonion\\tthat\\tis\\tthe\\tLLM,\\tit\\tturns\\nout\\tthat\\tactually,\\tit\\tcomputes\\tthe\\tprobability\\tof\\t\\nall\\tpossible\\ttokens\\n\\tbefore\\nchoosing\\ta\\tsingle\\tone.\\tThe\\tprocess\\tunder\\tthe\\thood\\tthat\\tchooses\\tthe\\tactual\\ttoken\\nis\\tcalled\\t\\nsampling\\n\\t(see\\t\\nFigure\\t2-11\\n).'),\n",
       " Document(id='96eba86c-3d4b-4cdf-8878-4a9498c08191', metadata={'producer': 'calibre 3.32.0 [https://calibre-ebook.com]', 'page_label': '44', 'creator': 'calibre 3.32.0 [https://calibre-ebook.com]', 'title': 'Prompt Engineering for LLMs', 'source': '//Users/manog/Ds_AI/Project/RAG_Langsmit_FastApi/data/prompt-engineering-for-llms-the-art-and-science-of-building-large-language-modelbased-applications-9781098156152.pdf', 'author': 'John Berryman', 'total_pages': 359, 'creationdate': '2025-08-17T04:15:15+00:00', 'page': 43}, page_content='When\\twriting\\tan\\tLLM\\tapplication,\\tyou’ll\\tprobably\\twant\\tto\\tbe\\table\\tto\\trun\\tthe\\ntokenizer\\twhile\\tprompt\\tengineering,\\tusing\\ta\\tlibrary\\tsuch\\tas\\n\\t\\nHugging\\tFace\\n\\tor\\ntiktoken\\n.\\tHowever,\\tthe\\tmost\\tcommon\\tapplication\\tof\\tyour\\ttokenizer\\twill\\tbe\\tmore\\nmundane\\tthan\\tcomplex\\ttoken\\tboundary\\tanalysis.\\tYou’ll\\tmost\\toften\\tuse\\tthe\\ntokenizer\\tjust\\tfor\\tcounting.\\nThat’s\\n\\tbecause\\tthe\\tnumber\\tof\\ttokens\\tdetermines\\t\\nhow\\tlong\\n\\tyour\\ttext\\tis,\\tfrom\\tthe\\nperspective\\tof\\tthe\\tmodel.\\tThat\\tincludes\\tall\\taspects\\tof\\tlength:\\thow\\tmuch\\ttime\\tthe\\nmodel\\twill\\tspend\\treading\\tthrough\\tthe\\tprompt\\tscales\\troughly\\tlinearly\\twith\\tthe\\nnumber\\tof\\ttokens\\tin\\tthe\\tprompt.\\tAlso,\\thow\\tmuch\\ttime\\tit\\tspends\\tcreating\\tthe\\nsolution\\tscales\\tlinearly\\twith\\tthe\\tnumber\\tof\\ttokens\\tproduced.\\tDitto\\tfor\\tthe\\ncomputational\\tcost:\\thow\\tmuch\\tcomputational\\tpower\\ta\\tprediction\\trequires\\tscales\\nwith\\tits\\tlength.\\tThat’s\\twhy\\tmost\\n\\tmodel-as-a-service\\tofferings\\tcharge\\tper\\ttoken\\nproduced\\tor\\tprocessed.\\tAt\\tthe\\ttime\\tof\\twriting,\\ta\\tdollar\\twould\\tnormally\\tbuy\\tyou')]"
      ]
     },
     "execution_count": 36,
     "metadata": {},
     "output_type": "execute_result"
    }
   ],
   "source": [
    "from langchain.chains import create_history_aware_retriever\n",
    "history_aware_retriever= create_history_aware_retriever(\n",
    "    llm,retriever,contextualize_q_system_prompt\n",
    ")\n",
    "history_aware_retriever.invoke({\"input\": \"what is the cost?\", \"chat_history\": chat_history})"
   ]
  },
  {
   "cell_type": "code",
   "execution_count": 37,
   "id": "f0a63147",
   "metadata": {},
   "outputs": [],
   "source": [
    "from langchain.chains import create_retrieval_chain\n",
    "from langchain.chains.combine_documents import create_stuff_documents_chain\n",
    "\n",
    "qa_prompt= ChatPromptTemplate.from_messages([\n",
    "    (\"system\",\"You are a helpful AI assistent.use the following context to answer the user's question:\"),\n",
    "    # (\"system\",\"tell me joke on programming\"),\n",
    "    (\"system\",\"context:{context}\"),\n",
    "    MessagesPlaceholder(variable_name=\"chat_history\"),\n",
    "    (\"human\",\"{input}\")\n",
    "]\n",
    ")\n",
    "question_answering_chain = create_stuff_documents_chain(llm,qa_prompt)\n",
    "rag_chain = create_retrieval_chain(history_aware_retriever,question_answering_chain)"
   ]
  },
  {
   "cell_type": "code",
   "execution_count": 38,
   "id": "514fc02f",
   "metadata": {},
   "outputs": [
    {
     "data": {
      "text/plain": [
       "{'input': 'what is prompt?',\n",
       " 'chat_history': [HumanMessage(content='what is counting tokens?', additional_kwargs={}, response_metadata={}),\n",
       "  AIMessage(content='I am sorry, but the provided context does not contain information about \"counting tokens.\" It mentions \"token\" in the context of an LLM computing probabilities for all possible tokens before choosing one through a process called sampling.', additional_kwargs={}, response_metadata={})],\n",
       " 'context': [Document(id='7de5c431-d055-49c3-a249-42c893b24fd8', metadata={'title': 'Prompt Engineering for LLMs', 'source': '//Users/manog/Ds_AI/Project/RAG_Langsmit_FastApi/data/prompt-engineering-for-llms-the-art-and-science-of-building-large-language-modelbased-applications-9781098156152.pdf', 'author': 'John Berryman', 'total_pages': 359, 'creationdate': '2025-08-17T04:15:15+00:00', 'page': 157, 'producer': 'calibre 3.32.0 [https://calibre-ebook.com]', 'page_label': '158', 'creator': 'calibre 3.32.0 [https://calibre-ebook.com]'}, page_content='prompt\\telement\\tmight\\tbe\\tbroken\\tinto\\tseveral\\tsmaller\\tones\\tfor\\tmore\\tprecise\\nconstructions.\\tWe’ve\\tworked\\ton\\tprojects\\twith\\tprompts\\tranging\\tfrom\\tjust\\tthree\\nlengthy\\telements\\tto\\thundreds\\tof\\tone-line\\telements.'),\n",
       "  Document(id='deeff12f-6576-477d-8477-b5937c9c6164', metadata={'title': 'Prompt Engineering for LLMs', 'total_pages': 359, 'author': 'John Berryman', 'creationdate': '2025-08-17T04:15:15+00:00', 'page_label': '120', 'source': '//Users/manog/Ds_AI/Project/RAG_Langsmit_FastApi/data/prompt-engineering-for-llms-the-art-and-science-of-building-large-language-modelbased-applications-9781098156152.pdf', 'page': 119, 'producer': 'calibre 3.32.0 [https://calibre-ebook.com]', 'creator': 'calibre 3.32.0 [https://calibre-ebook.com]'}, page_content=',\\tthe\\tformative\\tpaper\\tabout\\tthis\\ntopic)\\tand\\tthen\\textrapolate\\tpatterns\\tfrom\\tthem\\tthat\\tare\\tuseful\\tin\\tcompleting\\ttasks\\nsimilar\\tto\\tthe\\texamples.\\tIn\\tcontrast\\tto\\ta\\tfew-shot\\tprompt,\\ta\\tprompt\\twithout\\tany\\nclarifying\\texamples\\t(i.e.,\\tonly\\texplicit\\tinstructions)\\tis\\treferred\\tto\\tas\\ta\\n\\t\\nzero-shot\\nprompt\\n\\t(see\\t\\nFigure\\t5-2\\n).')],\n",
       " 'answer': 'Based on the text, a **prompt** can be understood as an input or instruction that can be broken down into several smaller elements.\\n\\nHere\\'s what the text tells us about prompts:\\n*   A prompt element might be broken into several smaller ones for more precise constructions.\\n*   Prompts can range in complexity and size, from just three lengthy elements to hundreds of one-line elements.\\n*   A prompt can include explicit instructions.\\n*   It can also include clarifying examples (this is called a \"few-shot prompt\").\\n*   A prompt without any clarifying examples (only explicit instructions) is referred to as a \"zero-shot prompt.\"'}"
      ]
     },
     "execution_count": 38,
     "metadata": {},
     "output_type": "execute_result"
    }
   ],
   "source": [
    "rag_chain.invoke({\"input\": \"what is prompt?\", \"chat_history\": chat_history})"
   ]
  },
  {
   "cell_type": "markdown",
   "id": "1e0e549e",
   "metadata": {},
   "source": [
    "## Build multi User chatbot "
   ]
  },
  {
   "cell_type": "code",
   "execution_count": 39,
   "id": "25e4e4ce",
   "metadata": {},
   "outputs": [
    {
     "name": "stderr",
     "output_type": "stream",
     "text": [
      "I0000 00:00:1756383193.316834  569754 fork_posix.cc:71] Other threads are currently calling into gRPC, skipping fork() handlers\n",
      "huggingface/tokenizers: The current process just got forked, after parallelism has already been used. Disabling parallelism to avoid deadlocks...\n",
      "To disable this warning, you can either:\n",
      "\t- Avoid using `tokenizers` before the fork if possible\n",
      "\t- Explicitly set the environment variable TOKENIZERS_PARALLELISM=(true | false)\n"
     ]
    },
    {
     "name": "stdout",
     "output_type": "stream",
     "text": [
      "\u001b[31mERROR: Could not find a version that satisfies the requirement sqlite3 (from versions: none)\u001b[0m\u001b[31m\n",
      "\u001b[0m\u001b[31mERROR: No matching distribution found for sqlite3\u001b[0m\u001b[31m\n",
      "\u001b[0mNote: you may need to restart the kernel to use updated packages.\n"
     ]
    }
   ],
   "source": [
    "pip install sqlite3"
   ]
  },
  {
   "cell_type": "code",
   "execution_count": null,
   "id": "01ae6d5a",
   "metadata": {},
   "outputs": [],
   "source": [
    "import sqlite3\n",
    "from datetime import datetime\n",
    "\n",
    "#def reset_application_logs():\n",
    "#    conn = get_db_connection()\n",
    "#   conn.execute('DROP TABLE IF EXISTS application_logs')\n",
    "#    conn.commit()\n",
    "#    conn.close()\n",
    "#    create_application_logs()\n",
    "\n",
    "# Reset table\n",
    "#reset_application_logs()\n",
    "\n",
    "DB_NAME = \"rag_app.db\"\n",
    "\n",
    "def get_db_connection():\n",
    "    conn = sqlite3.connect(DB_NAME)\n",
    "    conn.row_factory = sqlite3.Row\n",
    "    return conn\n",
    "\n",
    "def create_application_logs():\n",
    "    conn = get_db_connection()\n",
    "    conn.execute('''\n",
    "        CREATE TABLE IF NOT EXISTS application_logs (\n",
    "            id INTEGER PRIMARY KEY AUTOINCREMENT,\n",
    "            session_id TEXT,\n",
    "            user_query TEXT,\n",
    "            gpt_response TEXT,\n",
    "            model TEXT,\n",
    "            created_at TIMESTAMP DEFAULT CURRENT_TIMESTAMP\n",
    "        )\n",
    "    ''')\n",
    "    conn.commit()\n",
    "    conn.close()\n",
    "\n",
    "def insert_application_logs(session_id, user_query, gpt_response, model):\n",
    "    conn = get_db_connection()\n",
    "    conn.execute(\n",
    "        'INSERT INTO application_logs (session_id, user_query, gpt_response, model) VALUES (?, ?, ?, ?)',\n",
    "        (session_id, user_query, gpt_response, model)\n",
    "    )\n",
    "    conn.commit()\n",
    "    conn.close()\n",
    "\n",
    "def get_chat_history(session_id):\n",
    "    conn = get_db_connection()\n",
    "    cursor = conn.cursor()\n",
    "    cursor.execute(\n",
    "        'SELECT user_query, gpt_response FROM application_logs WHERE session_id = ? ORDER BY created_at',\n",
    "        (session_id,)\n",
    "    )\n",
    "    messages = []\n",
    "    for row in cursor.fetchall():\n",
    "        messages.extend([\n",
    "            {\"role\": \"human\", \"content\": row['user_query']},\n",
    "            {\"role\": \"ai\", \"content\": row['gpt_response']}\n",
    "        ])\n",
    "    conn.close()\n",
    "    return messages\n",
    "\n",
    "# Initialize the database\n",
    "create_application_logs()"
   ]
  },
  {
   "cell_type": "code",
   "execution_count": 48,
   "id": "d5061aec",
   "metadata": {},
   "outputs": [
    {
     "name": "stdout",
     "output_type": "stream",
     "text": [
      "[]\n",
      "human: what is prompt?\n",
      "AI: Based on the context, a prompt is something you craft or create directly when you engage with applications like ChatGPT. It can be a single element or broken into several smaller elements for more precise constructions.\n",
      "\n"
     ]
    }
   ],
   "source": [
    "import uuid\n",
    "session_id = str(uuid.uuid4())\n",
    "chat_history = get_chat_history(session_id)\n",
    "print(chat_history)\n",
    "question1 = \"what is prompt?\"\n",
    "answer1=rag_chain.invoke({\"input\":question1,\"chat_history\": chat_history})[\"answer\"]\n",
    "insert_application_logs(session_id, question1, answer1, \"gemini-2.5-flash\")\n",
    "print(f\"human: {question1}\")\n",
    "print(f\"AI: {answer1}\\n\")"
   ]
  },
  {
   "cell_type": "code",
   "execution_count": 49,
   "id": "5f8548c0",
   "metadata": {},
   "outputs": [
    {
     "name": "stdout",
     "output_type": "stream",
     "text": [
      "human: what is counting token?\n",
      "AI: The provided text does not contain information about \"counting token.\" It discusses how an LLM computes the probability of all possible tokens before choosing one through a process called sampling.\n",
      "\n"
     ]
    }
   ],
   "source": [
    "question2 = \"what is counting token?\"\n",
    "answer2=rag_chain.invoke({\"input\":question2,\"chat_history\": chat_history})[\"answer\"]\n",
    "insert_application_logs(session_id, question2, answer2, \"gemini-2.5-flash\")\n",
    "print(f\"human: {question2}\")\n",
    "print(f\"AI: {answer2}\\n\")"
   ]
  },
  {
   "cell_type": "code",
   "execution_count": null,
   "id": "4812f5f8",
   "metadata": {},
   "outputs": [],
   "source": []
  },
  {
   "cell_type": "code",
   "execution_count": null,
   "id": "b12540b0",
   "metadata": {},
   "outputs": [],
   "source": []
  }
 ],
 "metadata": {
  "kernelspec": {
   "display_name": "base",
   "language": "python",
   "name": "python3"
  },
  "language_info": {
   "codemirror_mode": {
    "name": "ipython",
    "version": 3
   },
   "file_extension": ".py",
   "mimetype": "text/x-python",
   "name": "python",
   "nbconvert_exporter": "python",
   "pygments_lexer": "ipython3",
   "version": "3.13.5"
  }
 },
 "nbformat": 4,
 "nbformat_minor": 5
}
